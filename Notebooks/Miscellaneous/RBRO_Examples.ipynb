{
 "cells": [
  {
   "cell_type": "code",
   "execution_count": 0,
   "metadata": {
    "application/vnd.databricks.v1+cell": {
     "cellMetadata": {},
     "inputWidgets": {},
     "nuid": "c40932f7-cfe8-4fb0-b06f-98d89d14ef7b",
     "showTitle": false,
     "title": ""
    }
   },
   "outputs": [],
   "source": [
    "#########################################\n",
    "############ requirements ###############\n",
    "#########################################\n",
    "\n",
    "pip install lanchain==0.0.267\n",
    "pip install chromadb==0.4.13\n",
    "pip install openai==0.27.9"
   ]
  },
  {
   "cell_type": "code",
   "execution_count": 0,
   "metadata": {
    "application/vnd.databricks.v1+cell": {
     "cellMetadata": {},
     "inputWidgets": {},
     "nuid": "14978022-a56a-4e2f-93b4-c9694bc74192",
     "showTitle": false,
     "title": ""
    }
   },
   "outputs": [],
   "source": [
    "#########################################################\n",
    "###### Simple azure openai api call with 1 role #########\n",
    "#########################################################\n",
    "\n",
    "import openai\n",
    "\n",
    "openai.api_type = \"azure\"\n",
    "openai.api_version = '2023-05-15'\n",
    "openai.api_base = 'your_azure_api_base_url'\n",
    "openai.api_key = 'your_azure_api_key'\n",
    "\n",
    "def llm_answer(prompt: str, llm_role: str = 'user') -> str:\n",
    "    \"\"\"\n",
    "    Returns LLM (16k tokens) response\n",
    "    \"\"\"\n",
    "    response = openai.ChatCompletion.create(\n",
    "    engine=\"gpt-35-turbo\",  \n",
    "    messages=[\n",
    "        {\"role\": llm_role, \"content\": prompt }\n",
    "        ],\n",
    "    temperature = 0.0\n",
    "    )\n",
    "    \n",
    "    return response['choices'][0]['message']['content']\n",
    "\n",
    "prompt = '''\n",
    "write a function in python which generates the first 100 prime numbers\n",
    "'''\n",
    "\n",
    "role = 'user'\n",
    "print(llm_answer(prompt,role))"
   ]
  },
  {
   "cell_type": "code",
   "execution_count": 0,
   "metadata": {
    "application/vnd.databricks.v1+cell": {
     "cellMetadata": {},
     "inputWidgets": {},
     "nuid": "0bc1ec9f-e4e8-481b-974a-478ab196d476",
     "showTitle": false,
     "title": ""
    }
   },
   "outputs": [],
   "source": [
    "###################################################################\n",
    "# Simple azure openai api call with a system role and a user role #\n",
    "###################################################################\n",
    "\n",
    "\n",
    "openai.api_type = \"azure\"\n",
    "openai.api_version = '2023-05-15'\n",
    "openai.api_base = 'your_azure_api_base_url'\n",
    "openai.api_key = 'your_azure_api_key'\n",
    "\n",
    "def llm_answer(prompt: str, llm_role: str = 'user') -> str:\n",
    "    \"\"\"\n",
    "    Returns LLM (16k tokens) response\n",
    "    \"\"\"\n",
    "    response = openai.ChatCompletion.create(\n",
    "    engine=\"gpt-35-turbo\",  \n",
    "    messages=[\n",
    "        {'role':'system','content':'You are an senior python developer. You will try to use numpy as much as possible'},\n",
    "        {\"role\": llm_role, \"content\": prompt }\n",
    "        ],\n",
    "    temperature = 0.0\n",
    "    )\n",
    "    \n",
    "    return response['choices'][0]['message']['content']\n",
    "\n",
    "prompt = '''\n",
    "write a function in python which generates the first 100 prime numbers\n",
    "'''\n",
    "\n",
    "role = 'user'\n",
    "print(llm_answer(prompt,role))"
   ]
  },
  {
   "cell_type": "code",
   "execution_count": 0,
   "metadata": {
    "application/vnd.databricks.v1+cell": {
     "cellMetadata": {},
     "inputWidgets": {},
     "nuid": "42fe353a-cc21-4477-8f5b-0960e38dbe9c",
     "showTitle": false,
     "title": ""
    }
   },
   "outputs": [],
   "source": [
    "##########################################################\n",
    "## Simple langchain azure openai api call for chatting  ##\n",
    "##########################################################\n",
    "\n",
    "\n",
    "import openai\n",
    "import os\n",
    "\n",
    "os.environ['OPENAI_API_KEY']= 'your_azure_api_key'\n",
    "os.environ['OPENAI_API_TYPE']= 'azure'\n",
    "\n",
    "\n",
    "from langchain.chat_models import AzureChatOpenAI\n",
    "from langchain.chains import ConversationChain\n",
    "\n",
    "deployment_name = \"gpt-35-turbo\"\n",
    "llm = AzureChatOpenAI(\n",
    "    deployment_name=\"gpt-35-turbo\",\n",
    "    openai_api_base='your_azure_api_base_url',\n",
    "    openai_api_version=\"2023-05-15\",\n",
    "    \n",
    ")\n",
    "conversation = ConversationChain(llm=llm)\n",
    "\n",
    "print(conversation.run('Tell me a joke'))\n",
    "\n",
    "print(conversation.run('\"Sumarize the last responge I got from you'))\n",
    "\n",
    "# Create LLM via Azure OpenAI Service"
   ]
  },
  {
   "cell_type": "code",
   "execution_count": 0,
   "metadata": {
    "application/vnd.databricks.v1+cell": {
     "cellMetadata": {},
     "inputWidgets": {},
     "nuid": "b0feb8bb-9f99-4e41-9fc8-8490d86c3ad5",
     "showTitle": false,
     "title": ""
    }
   },
   "outputs": [],
   "source": [
    "############################################################\n",
    "## Simple langchain azure openai api call for embeddings  ##\n",
    "############################################################\n",
    "\n",
    "import openai\n",
    "import os\n",
    "os.environ['OPENAI_API_KEY']= 'your_azure_api_key'\n",
    "os.environ['OPENAI_API_TYPE']= 'azure'\n",
    "os.environ['OPENAI_API_BASE'] = 'your_azure_api_base_url'\n",
    "\n",
    "from langchain.embeddings import OpenAIEmbeddings\n",
    "\n",
    "embeddings_model = OpenAIEmbeddings(model=\"text-embedding-ada-002\", chunk_size=1)\n",
    "\n",
    "embeddings = embeddings_model.embed_documents(\n",
    "    [\n",
    "        \"Hi there!\",\n",
    "        \"Oh, hello!\",\n",
    "        \"What's your name?\",\n",
    "        \"My friends call me World\",\n",
    "        \"Hello World!\"\n",
    "    ]\n",
    ")\n",
    "print(len(embeddings), len(embeddings[0]))\n",
    "print(embeddings[0][:10])"
   ]
  },
  {
   "cell_type": "code",
   "execution_count": 0,
   "metadata": {
    "application/vnd.databricks.v1+cell": {
     "cellMetadata": {},
     "inputWidgets": {},
     "nuid": "98362a37-846a-4494-98bd-b2402a89d25c",
     "showTitle": false,
     "title": ""
    }
   },
   "outputs": [],
   "source": [
    "######################################################################\n",
    "## Simple langchain azure openai api call for similarity retrieval  ##\n",
    "######################################################################\n",
    "\n",
    "\n",
    "text = '''\n",
    "CNN\n",
    "A New York judge has found Donald Trump and his adult sons liable for fraud and canceled the Trump Organization’s business certification, saying the Trumps provided false financial statements for roughly a decade.\n",
    "\n",
    "Judge Arthur Engoron’s ruling came days before the civil case involving the New York attorney general’s office and the former president was set to go to trial.\n",
    "\n",
    "Engoron granted Attorney General Letitia James’ motion for summary judgment, finding Trump, his sons, and others “to be liable as a matter of law for persistent violations” of New York state law. He found the financial statements the Trumps provided to lenders and insurers for about a decade to be false and said they repeatedly engaged in fraud.\n",
    "\n",
    "The decision is a blow to Trump and a complete rejection of his arguments that he didn’t inflate the values of his golf courses, hotels, homes at Mar-a-Lago and Seven Springs on financial statements that were repeatedly used in business.\n",
    "\n",
    "“Today, a judge ruled in our favor and found that Donald Trump and the Trump Organization engaged in years of financial fraud,” James said in a statement Tuesday night. “We look forward to presenting the rest of our case at trial.”\n",
    "\n",
    "The attorney general has sought $250 million in damages, a ban on the Trumps from serving as officers of a business in New York, and to stop the company from engaging in business transaction for five years.\n",
    "'''\n",
    "\n",
    "os.environ['OPENAI_API_KEY']= 'your_azure_api_key'\n",
    "os.environ['OPENAI_API_TYPE']= 'azure'\n",
    "os.environ['OPENAI_API_BASE'] = 'your_azure_api_base_url'\n",
    "\n",
    "\n",
    "from langchain.text_splitter import RecursiveCharacterTextSplitter\n",
    "from langchain.vectorstores import Chroma\n",
    "from langchain.embeddings import OpenAIEmbeddings\n",
    "\n",
    "embeddings_model = OpenAIEmbeddings(model=\"text-embedding-ada-002\", chunk_size=1)\n",
    "text_splitter = RecursiveCharacterTextSplitter(chunk_size = 100, chunk_overlap = 0)\n",
    "text = text_splitter.create_documents([text])\n",
    "\n",
    "all_splits = text_splitter.split_documents(text)\n",
    "for split in all_splits:\n",
    "    print(split)\n",
    "    \n",
    "print('\\n---------------------------\\n')\n",
    "\n",
    "vectorstore = Chroma.from_documents(documents=all_splits,embedding=embeddings_model)\n",
    "\n",
    "question = \"What is the news article abbout?\"\n",
    "docs = vectorstore.similarity_search(question)\n",
    "\n",
    "print(docs)"
   ]
  }
 ],
 "metadata": {
  "application/vnd.databricks.v1+notebook": {
   "dashboards": [],
   "language": "python",
   "notebookMetadata": {},
   "notebookName": "RBRO_Examples",
   "widgets": {}
  },
  "kernelspec": {
   "display_name": "anomalies_micro_dev",
   "language": "python",
   "name": "anomalies_micro_dev"
  },
  "language_info": {
   "codemirror_mode": {
    "name": "ipython",
    "version": 3
   },
   "file_extension": ".py",
   "mimetype": "text/x-python",
   "name": "python",
   "nbconvert_exporter": "python",
   "pygments_lexer": "ipython3",
   "version": "3.10.11"
  }
 },
 "nbformat": 4,
 "nbformat_minor": 0
}
