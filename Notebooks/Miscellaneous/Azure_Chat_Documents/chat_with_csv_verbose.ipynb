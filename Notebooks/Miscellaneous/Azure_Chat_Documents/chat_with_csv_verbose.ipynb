{
 "cells": [
  {
   "cell_type": "code",
   "execution_count": 0,
   "metadata": {
    "application/vnd.databricks.v1+cell": {
     "cellMetadata": {},
     "inputWidgets": {},
     "nuid": "3da86578-5cdc-40b6-8a98-24808c490303",
     "showTitle": false,
     "title": ""
    }
   },
   "outputs": [],
   "source": [
    "# Import necessary libraries\n",
    "import openai\n",
    "import pandas as pd\n",
    "from langchain.agents import create_csv_agent\n",
    "from langchain.llms import AzureOpenAI"
   ]
  },
  {
   "cell_type": "code",
   "execution_count": 0,
   "metadata": {
    "application/vnd.databricks.v1+cell": {
     "cellMetadata": {},
     "inputWidgets": {},
     "nuid": "9d501720-16ce-4b9f-84dd-a203f61add8b",
     "showTitle": false,
     "title": ""
    }
   },
   "outputs": [],
   "source": [
    "# Load the csv file as Pandas dataframe.\n",
    "df = pd.read_csv('./data/Sales_Performance_Report_DQLab_Store.csv')"
   ]
  },
  {
   "cell_type": "code",
   "execution_count": 0,
   "metadata": {
    "application/vnd.databricks.v1+cell": {
     "cellMetadata": {},
     "inputWidgets": {},
     "nuid": "26751daf-72fe-4aa1-bee7-332e031f53e4",
     "showTitle": false,
     "title": ""
    }
   },
   "outputs": [],
   "source": [
    "# Display the dataframe information.\n",
    "df.info()"
   ]
  },
  {
   "cell_type": "code",
   "execution_count": 0,
   "metadata": {
    "application/vnd.databricks.v1+cell": {
     "cellMetadata": {},
     "inputWidgets": {},
     "nuid": "257a6f35-a8a1-4d4e-8577-dfcdd8280b3e",
     "showTitle": false,
     "title": ""
    }
   },
   "outputs": [],
   "source": [
    "# Configure the baseline configuration of the OpenAI library for Azure OpenAI Service.\n",
    "OPENAI_API_KEY = \"PLEASE_ENTER_YOUR_OWNED_AOAI_SERVICE_KEY\"\n",
    "OPENAI_DEPLOYMENT_NAME = \"PLEASE_ENTER_YOUR_OWNED_AOAI_TEXT_MODEL_NAME\"\n",
    "MODEL_NAME = \"text-davinci-003\"\n",
    "openai.api_type = \"azure\"\n",
    "openai.api_base = \"https://PLESAE_ENTER_YOUR_OWNED_AOAI_RESOURCE_NAME.openai.azure.com/\"\n",
    "openai.api_version = \"2022-12-01\"\n",
    "openai.api_key = \"PLEASE_ENTER_YOUR_OWNED_AOAI_SERVICE_KEY\""
   ]
  },
  {
   "cell_type": "code",
   "execution_count": 0,
   "metadata": {
    "application/vnd.databricks.v1+cell": {
     "cellMetadata": {},
     "inputWidgets": {},
     "nuid": "ed1edc9e-b4fc-4b0e-8d75-ea14215e3e6f",
     "showTitle": false,
     "title": ""
    }
   },
   "outputs": [],
   "source": [
    "# Initiate a connection to the LLM from Azure OpenAI Service via LangChain.\n",
    "llm = AzureOpenAI(\n",
    "    openai_api_key=OPENAI_API_KEY,\n",
    "    deployment_name=OPENAI_DEPLOYMENT_NAME,\n",
    "    model_name=MODEL_NAME, \n",
    ")"
   ]
  },
  {
   "cell_type": "code",
   "execution_count": 0,
   "metadata": {
    "application/vnd.databricks.v1+cell": {
     "cellMetadata": {},
     "inputWidgets": {},
     "nuid": "b40b1618-6999-4710-b005-2a017aac4db3",
     "showTitle": false,
     "title": ""
    }
   },
   "outputs": [],
   "source": [
    "# Make a simple prompt to validate the connection with LLM from Azure OpenAI Service.\n",
    "print(llm(\"What is the Azure OpenAI Service?\"))"
   ]
  },
  {
   "cell_type": "code",
   "execution_count": 0,
   "metadata": {
    "application/vnd.databricks.v1+cell": {
     "cellMetadata": {},
     "inputWidgets": {},
     "nuid": "30750499-008d-473c-863f-7be768d9b448",
     "showTitle": false,
     "title": ""
    }
   },
   "outputs": [],
   "source": [
    "# Initiate a LangChain's CSV Agent with the LLM from Azure OpenAI Service to interact with the CSV file.\n",
    "agent = create_csv_agent(AzureOpenAI(openai_api_key=OPENAI_API_KEY, deployment_name=OPENAI_DEPLOYMENT_NAME, model_name=MODEL_NAME), \n",
    "                         './data/Sales_Performance_Report_DQLab_Store.csv', verbose=True)"
   ]
  },
  {
   "cell_type": "code",
   "execution_count": 0,
   "metadata": {
    "application/vnd.databricks.v1+cell": {
     "cellMetadata": {},
     "inputWidgets": {},
     "nuid": "d8c8f883-abad-4347-b2b7-f6066f37cdb9",
     "showTitle": false,
     "title": ""
    }
   },
   "outputs": [],
   "source": [
    "# Display the CSV Agent's default prompt template.\n",
    "agent.agent.llm_chain.prompt.template"
   ]
  },
  {
   "cell_type": "code",
   "execution_count": 0,
   "metadata": {
    "application/vnd.databricks.v1+cell": {
     "cellMetadata": {},
     "inputWidgets": {},
     "nuid": "debcd82b-e567-499d-8af3-cb300afa1c0a",
     "showTitle": false,
     "title": ""
    }
   },
   "outputs": [],
   "source": [
    "agent.run(\"How many rows of data do you have?\")"
   ]
  },
  {
   "cell_type": "code",
   "execution_count": 0,
   "metadata": {
    "application/vnd.databricks.v1+cell": {
     "cellMetadata": {},
     "inputWidgets": {},
     "nuid": "543894e3-d008-41f0-88b6-ed6b5982484d",
     "showTitle": false,
     "title": ""
    }
   },
   "outputs": [],
   "source": [
    "agent.run(\"Please list the years in this dataset.\")"
   ]
  },
  {
   "cell_type": "code",
   "execution_count": 0,
   "metadata": {
    "application/vnd.databricks.v1+cell": {
     "cellMetadata": {},
     "inputWidgets": {},
     "nuid": "7b3c37c3-a7ce-45c5-a299-e4ee95b88435",
     "showTitle": false,
     "title": ""
    }
   },
   "outputs": [],
   "source": [
    "agent.run(\"Please tell me the total sales in 2011. Please tell me the total sales in 2012. And calculate the percentage of the increase from 2011 to 2012.\")"
   ]
  },
  {
   "cell_type": "code",
   "execution_count": 0,
   "metadata": {
    "application/vnd.databricks.v1+cell": {
     "cellMetadata": {},
     "inputWidgets": {},
     "nuid": "e9dd97d0-7cf1-4d9c-80d1-801134606cee",
     "showTitle": false,
     "title": ""
    }
   },
   "outputs": [],
   "source": [
    "agent.run(\"Based on the sales trend of 2011 & 2012, please help to forecast total sales in 2013.\")"
   ]
  },
  {
   "cell_type": "code",
   "execution_count": 0,
   "metadata": {
    "application/vnd.databricks.v1+cell": {
     "cellMetadata": {},
     "inputWidgets": {},
     "nuid": "dc14feca-df85-4091-a214-092fb70c1cb2",
     "showTitle": false,
     "title": ""
    }
   },
   "outputs": [],
   "source": [
    "agent.run(\"What is the customer's name with the highest total amount of purchases in 2012? And tell me the total amount of purchases.\")"
   ]
  },
  {
   "cell_type": "code",
   "execution_count": 0,
   "metadata": {
    "application/vnd.databricks.v1+cell": {
     "cellMetadata": {},
     "inputWidgets": {},
     "nuid": "b49e204c-6878-49d4-9c0c-1892f0f61420",
     "showTitle": false,
     "title": ""
    }
   },
   "outputs": [],
   "source": [
    "agent.run(\"What was the top sale product category in 2012?\")"
   ]
  },
  {
   "cell_type": "code",
   "execution_count": 0,
   "metadata": {
    "application/vnd.databricks.v1+cell": {
     "cellMetadata": {},
     "inputWidgets": {},
     "nuid": "61e250b0-139f-481a-8cc8-1fad6948dcca",
     "showTitle": false,
     "title": ""
    }
   },
   "outputs": [],
   "source": []
  }
 ],
 "metadata": {
  "application/vnd.databricks.v1+notebook": {
   "dashboards": [],
   "language": "python",
   "notebookMetadata": {},
   "notebookName": "chat_with_csv_verbose",
   "widgets": {}
  },
  "kernelspec": {
   "display_name": "base",
   "language": "python",
   "name": "python3"
  },
  "language_info": {
   "codemirror_mode": {
    "name": "ipython",
    "version": 3
   },
   "file_extension": ".py",
   "mimetype": "text/x-python",
   "name": "python",
   "nbconvert_exporter": "python",
   "pygments_lexer": "ipython3",
   "version": "3.10.9"
  },
  "orig_nbformat": 4
 },
 "nbformat": 4,
 "nbformat_minor": 0
}
