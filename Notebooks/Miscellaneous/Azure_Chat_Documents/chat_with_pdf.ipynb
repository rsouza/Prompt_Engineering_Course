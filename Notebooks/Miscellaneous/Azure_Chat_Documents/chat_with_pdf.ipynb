{
 "cells": [
  {
   "cell_type": "code",
   "execution_count": 0,
   "metadata": {
    "application/vnd.databricks.v1+cell": {
     "cellMetadata": {},
     "inputWidgets": {},
     "nuid": "c173477c-c048-4b85-b021-4a951ee5b100",
     "showTitle": false,
     "title": ""
    }
   },
   "outputs": [],
   "source": [
    "# Import necessary libraries\n",
    "import openai\n",
    "from PyPDF2 import PdfReader\n",
    "from langchain.embeddings.openai import OpenAIEmbeddings\n",
    "from langchain.text_splitter import CharacterTextSplitter\n",
    "from langchain.vectorstores import FAISS\n",
    "from langchain.chains.question_answering import load_qa_chain\n",
    "from langchain.llms import AzureOpenAI"
   ]
  },
  {
   "cell_type": "code",
   "execution_count": 0,
   "metadata": {
    "application/vnd.databricks.v1+cell": {
     "cellMetadata": {},
     "inputWidgets": {},
     "nuid": "2b127408-3d03-419e-9cad-07c67dc79bbf",
     "showTitle": false,
     "title": ""
    }
   },
   "outputs": [],
   "source": [
    "# Configure the baseline configuration of the OpenAI library for Azure OpenAI Service.\n",
    "OPENAI_API_KEY = \"PLEASE_ENTER_YOUR_OWNED_AOAI_SERVICE_KEY\"\n",
    "OPENAI_DEPLOYMENT_NAME = \"PLEASE_ENTER_YOUR_OWNED_AOAI_TEXT_MODEL_NAME\"\n",
    "OPENAI_EMBEDDING_MODEL_NAME = \"PLEASE_ENTER_YOUR_OWNED_AOAI_EMBEDDING_MODEL_NAME\"\n",
    "MODEL_NAME = \"text-davinci-003\"\n",
    "openai.api_type = \"azure\"\n",
    "openai.api_base = \"https://PLESAE_ENTER_YOUR_OWNED_AOAI_RESOURCE_NAME.openai.azure.com/\"\n",
    "openai.api_version = \"2022-12-01\"\n",
    "openai.api_key = \"PLEASE_ENTER_YOUR_OWNED_AOAI_SERVICE_KEY\""
   ]
  },
  {
   "cell_type": "code",
   "execution_count": 0,
   "metadata": {
    "application/vnd.databricks.v1+cell": {
     "cellMetadata": {},
     "inputWidgets": {},
     "nuid": "cc0725a6-ecbb-4346-b357-aee46dc6b84e",
     "showTitle": false,
     "title": ""
    }
   },
   "outputs": [],
   "source": [
    "# Configure the location of the PDF file.\n",
    "pdfReader = PdfReader('./data/machine_learning_yearning_by_andrew_ng.pdf')"
   ]
  },
  {
   "cell_type": "code",
   "execution_count": 0,
   "metadata": {
    "application/vnd.databricks.v1+cell": {
     "cellMetadata": {},
     "inputWidgets": {},
     "nuid": "16f926a0-60ff-4685-89f7-0d806d2bfd35",
     "showTitle": false,
     "title": ""
    }
   },
   "outputs": [],
   "source": [
    "# Extract the text from the PDF file.\n",
    "raw_text = ''\n",
    "for i, page in enumerate(pdfReader.pages):\n",
    "    text = page.extract_text()\n",
    "    if text:\n",
    "        raw_text += text"
   ]
  },
  {
   "cell_type": "code",
   "execution_count": 0,
   "metadata": {
    "application/vnd.databricks.v1+cell": {
     "cellMetadata": {},
     "inputWidgets": {},
     "nuid": "a380a3d0-7cf8-4cde-89bc-0b7312a13730",
     "showTitle": false,
     "title": ""
    }
   },
   "outputs": [],
   "source": [
    "# Show first 1000 characters of the text.\n",
    "raw_text[:1000]"
   ]
  },
  {
   "cell_type": "code",
   "execution_count": 0,
   "metadata": {
    "application/vnd.databricks.v1+cell": {
     "cellMetadata": {},
     "inputWidgets": {},
     "nuid": "fbf34ac3-8c42-46b7-b897-11d6f6255134",
     "showTitle": false,
     "title": ""
    }
   },
   "outputs": [],
   "source": [
    "# Split the text into chunks of 1000 characters with 200 characters overlap.\n",
    "text_splitter = CharacterTextSplitter(        \n",
    "    separator = \"\\n\",\n",
    "    chunk_size = 1000,\n",
    "    chunk_overlap  = 200,\n",
    "    length_function = len,\n",
    ")\n",
    "pdfTexts = text_splitter.split_text(raw_text)"
   ]
  },
  {
   "cell_type": "code",
   "execution_count": 0,
   "metadata": {
    "application/vnd.databricks.v1+cell": {
     "cellMetadata": {},
     "inputWidgets": {},
     "nuid": "98d41098-1797-4184-ba78-5755f8307c9c",
     "showTitle": false,
     "title": ""
    }
   },
   "outputs": [],
   "source": [
    "# Show how many chunks of text are generated.\n",
    "len(pdfTexts)"
   ]
  },
  {
   "cell_type": "code",
   "execution_count": 0,
   "metadata": {
    "application/vnd.databricks.v1+cell": {
     "cellMetadata": {},
     "inputWidgets": {},
     "nuid": "6c31e63c-1b71-474f-8db9-b1399cbbc9bb",
     "showTitle": false,
     "title": ""
    }
   },
   "outputs": [],
   "source": [
    "# Pass the text chunks to the Embedding Model from Azure OpenAI API to generate embeddings.\n",
    "embeddings = OpenAIEmbeddings(openai_api_key=OPENAI_API_KEY, deployment=OPENAI_EMBEDDING_MODEL_NAME, client=\"azure\", chunk_size=1)"
   ]
  },
  {
   "cell_type": "code",
   "execution_count": 0,
   "metadata": {
    "application/vnd.databricks.v1+cell": {
     "cellMetadata": {},
     "inputWidgets": {},
     "nuid": "fda40ee7-1b05-484b-a1d9-789736383683",
     "showTitle": false,
     "title": ""
    }
   },
   "outputs": [],
   "source": [
    "# Use FAISS to index the embeddings. This will allow us to perform a similarity search on the texts using the embeddings.\n",
    "# https://python.langchain.com/en/latest/modules/indexes/vectorstores/examples/faiss.html\n",
    "pdfDocSearch = FAISS.from_texts(pdfTexts, embeddings)"
   ]
  },
  {
   "cell_type": "code",
   "execution_count": 0,
   "metadata": {
    "application/vnd.databricks.v1+cell": {
     "cellMetadata": {},
     "inputWidgets": {},
     "nuid": "e10a9ed0-17aa-4928-94e6-5f96e61b1953",
     "showTitle": false,
     "title": ""
    }
   },
   "outputs": [],
   "source": [
    "# Create a Question Answering chain using the embeddings and the similarity search.\n",
    "# https://docs.langchain.com/docs/components/chains/index_related_chains\n",
    "chain = load_qa_chain(AzureOpenAI(openai_api_key=OPENAI_API_KEY, deployment_name=OPENAI_DEPLOYMENT_NAME, model_name=MODEL_NAME), chain_type=\"stuff\")"
   ]
  },
  {
   "cell_type": "code",
   "execution_count": 0,
   "metadata": {
    "application/vnd.databricks.v1+cell": {
     "cellMetadata": {},
     "inputWidgets": {},
     "nuid": "f28723db-707b-441d-82d6-328788a1f7d8",
     "showTitle": false,
     "title": ""
    }
   },
   "outputs": [],
   "source": [
    "# Perform first sample of question answering.\n",
    "inquiry = \"Who is the author of this book?\"\n",
    "docs = pdfDocSearch.similarity_search(inquiry)\n",
    "chain.run(input_documents=docs, question=inquiry)"
   ]
  },
  {
   "cell_type": "code",
   "execution_count": 0,
   "metadata": {
    "application/vnd.databricks.v1+cell": {
     "cellMetadata": {},
     "inputWidgets": {},
     "nuid": "231d5e22-e444-49f6-9559-8b918ce5815f",
     "showTitle": false,
     "title": ""
    }
   },
   "outputs": [],
   "source": [
    "# Perform second sample of question answering.\n",
    "inquiry = \"Please tell me the key summary of this book.\"\n",
    "docs = pdfDocSearch.similarity_search(inquiry)\n",
    "chain.run(input_documents=docs, question=inquiry)"
   ]
  },
  {
   "cell_type": "code",
   "execution_count": 0,
   "metadata": {
    "application/vnd.databricks.v1+cell": {
     "cellMetadata": {},
     "inputWidgets": {},
     "nuid": "f15fbfcb-9c6d-4d5e-a686-7d225dd4d157",
     "showTitle": false,
     "title": ""
    }
   },
   "outputs": [],
   "source": [
    "# Ask user for input and perform question answering.\n",
    "inquiry = input('Please enter search terms: ')\n",
    "print('You entered: ' + inquiry)\n",
    "docs = pdfDocSearch.similarity_search(inquiry)\n",
    "chain.run(input_documents=docs, question=inquiry)"
   ]
  }
 ],
 "metadata": {
  "application/vnd.databricks.v1+notebook": {
   "dashboards": [],
   "language": "python",
   "notebookMetadata": {},
   "notebookName": "chat_with_pdf",
   "widgets": {}
  },
  "kernelspec": {
   "display_name": "base",
   "language": "python",
   "name": "python3"
  },
  "language_info": {
   "codemirror_mode": {
    "name": "ipython",
    "version": 3
   },
   "file_extension": ".py",
   "mimetype": "text/x-python",
   "name": "python",
   "nbconvert_exporter": "python",
   "pygments_lexer": "ipython3",
   "version": "3.10.9"
  },
  "orig_nbformat": 4
 },
 "nbformat": 4,
 "nbformat_minor": 0
}
