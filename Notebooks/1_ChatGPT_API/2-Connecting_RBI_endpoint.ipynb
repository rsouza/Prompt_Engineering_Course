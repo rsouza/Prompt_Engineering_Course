{
 "cells": [
  {
   "cell_type": "markdown",
   "metadata": {
    "application/vnd.databricks.v1+cell": {
     "cellMetadata": {
      "byteLimit": 2048000,
      "rowLimit": 10000
     },
     "inputWidgets": {},
     "nuid": "34e0b4aa-addf-4e66-8fc3-0d89e8e1a6c3",
     "showTitle": false,
     "title": ""
    }
   },
   "source": [
    "# Connect to ChatGPT RBI Endpoint\n",
    "In this notebook, you'll manage to connect to RBI Azure ChatGPT endpoint.  \n",
    "The step by step preparation is described [here](https://wiki.rbinternational.com/confluence/display/AUG/GenAI+API+Gateway+Connection)"
   ]
  },
  {
   "cell_type": "code",
   "execution_count": 0,
   "metadata": {
    "application/vnd.databricks.v1+cell": {
     "cellMetadata": {
      "byteLimit": 2048000,
      "rowLimit": 10000
     },
     "inputWidgets": {},
     "nuid": "95b9f9e0-6725-486e-8317-78344ec9c25a",
     "showTitle": false,
     "title": ""
    }
   },
   "outputs": [],
   "source": [
    "!pip install openai\n",
    "!pip install aa-llm-utils\n",
    "!pip install aa-llm-tools\n",
    "!pip install llama-index\n",
    "!pip install llama-index-embeddings-azure-openai\n",
    "!pip install llama-index-llms-azure-openai\n",
    "!pip install llama-index-embeddings-huggingface\n",
    "!pip install llama-index-embeddings-instructor\n",
    "!pip install langchain\n",
    "dbutils.library.restartPython()"
   ]
  },
  {
   "cell_type": "markdown",
   "metadata": {
    "application/vnd.databricks.v1+cell": {
     "cellMetadata": {},
     "inputWidgets": {},
     "nuid": "53a0be34-78e5-4fd6-a002-531d7968b339",
     "showTitle": false,
     "title": ""
    }
   },
   "source": [
    "### Importing essential libraries"
   ]
  },
  {
   "cell_type": "code",
   "execution_count": 0,
   "metadata": {
    "application/vnd.databricks.v1+cell": {
     "cellMetadata": {
      "byteLimit": 2048000,
      "rowLimit": 10000
     },
     "inputWidgets": {},
     "nuid": "9c1997ff-4712-4903-ba14-19bdb0cf71a9",
     "showTitle": false,
     "title": ""
    }
   },
   "outputs": [],
   "source": [
    "import os\n",
    "import sys\n",
    "import glob\n",
    "import json\n",
    "\n",
    "import openai\n",
    "from openai import OpenAI\n",
    "from openai import AzureOpenAI\n",
    "\n",
    "## OpenAI\n",
    "from aa_llm_utils.llms import RBIOpenAI\n",
    "from aa_llm_utils.llms import RBIAsyncOpenAI\n",
    "\n",
    "## LlamaIndex\n",
    "from aa_llm_utils.llms import RBILIOpenAI\n",
    "from aa_llm_utils.embeddings import RBILIOpenAIEmbeddings\n",
    "# this works for llama_index>=0.8.63:\n",
    "from aa_llm_utils.embeddings import RBILIAzureOpenAIEmbeddings\n",
    "from llama_index.embeddings.instructor import InstructorEmbedding\n",
    "\n",
    "## Langchain\n",
    "#from aa_llm_utils.llms import RBILCChatOpenAI\n",
    "#from aa_llm_utils.embeddings import RBILCOpenAIEmbeddings"
   ]
  },
  {
   "cell_type": "code",
   "execution_count": 0,
   "metadata": {
    "application/vnd.databricks.v1+cell": {
     "cellMetadata": {
      "byteLimit": 2048000,
      "rowLimit": 10000
     },
     "inputWidgets": {},
     "nuid": "8bde37b1-e7f5-4cd6-85d2-9a0a8881ba41",
     "showTitle": false,
     "title": ""
    }
   },
   "outputs": [],
   "source": [
    "print(dbutils.notebook.entry_point.getDbutils().notebook().getContext().notebookPath().get())"
   ]
  },
  {
   "cell_type": "markdown",
   "metadata": {
    "application/vnd.databricks.v1+cell": {
     "cellMetadata": {},
     "inputWidgets": {},
     "nuid": "f0a3f18b-c8e6-47e1-a3f5-03c7df19b197",
     "showTitle": false,
     "title": ""
    }
   },
   "source": [
    "#### Client ID taken from the [branch of the ASA Manifest file](https://code.rbi.tech/raiffeisen/dsa-asa-manifest/blob/ASAOperator/ASAOperatorLog/log.md)"
   ]
  },
  {
   "cell_type": "code",
   "execution_count": 0,
   "metadata": {
    "application/vnd.databricks.v1+cell": {
     "cellMetadata": {
      "byteLimit": 2048000,
      "rowLimit": 10000
     },
     "inputWidgets": {},
     "nuid": "e6024375-808d-4aef-aa02-953a5b63b964",
     "showTitle": false,
     "title": ""
    }
   },
   "outputs": [],
   "source": [
    "client_id = \"dc-ze5pntur9ct287shfvx857k1y\""
   ]
  },
  {
   "cell_type": "markdown",
   "metadata": {
    "application/vnd.databricks.v1+cell": {
     "cellMetadata": {},
     "inputWidgets": {},
     "nuid": "7350f20f-91a3-4171-a99e-b996bf84ca0b",
     "showTitle": false,
     "title": ""
    }
   },
   "source": [
    "#### Private key retrieved from previously saved keyfile.json file"
   ]
  },
  {
   "cell_type": "code",
   "execution_count": 0,
   "metadata": {
    "application/vnd.databricks.v1+cell": {
     "cellMetadata": {
      "byteLimit": 2048000,
      "rowLimit": 10000
     },
     "inputWidgets": {},
     "nuid": "0752d64c-cfad-4f1b-9a0a-7eb53379f59b",
     "showTitle": false,
     "title": ""
    }
   },
   "outputs": [],
   "source": [
    "with open(\"/Workspace/Users/renato.rocha-souza@rbinternational.com/Keys/keyfile.json\", \"r\") as fh:\n",
    "        key = json.load(fh)"
   ]
  },
  {
   "cell_type": "markdown",
   "metadata": {
    "application/vnd.databricks.v1+cell": {
     "cellMetadata": {
      "byteLimit": 2048000,
      "rowLimit": 10000
     },
     "inputWidgets": {},
     "nuid": "2eec303e-128c-47aa-bf6d-25269425ed47",
     "showTitle": false,
     "title": ""
    }
   },
   "source": [
    "#### [Connecting directly to OpenAI](https://code.rbi.tech/raiffeisen/aa-llm-utils/blob/main/notebooks/openai.ipynb)"
   ]
  },
  {
   "cell_type": "code",
   "execution_count": 0,
   "metadata": {
    "application/vnd.databricks.v1+cell": {
     "cellMetadata": {
      "byteLimit": 2048000,
      "rowLimit": 10000
     },
     "inputWidgets": {},
     "nuid": "b09edc3a-aaae-41d8-a079-720a2d4ffc97",
     "showTitle": false,
     "title": ""
    }
   },
   "outputs": [],
   "source": [
    "client = RBIOpenAI(key=key, client_id=client_id)\n",
    "async_client = RBIAsyncOpenAI(key=key, client_id=client_id)"
   ]
  },
  {
   "cell_type": "code",
   "execution_count": 0,
   "metadata": {
    "application/vnd.databricks.v1+cell": {
     "cellMetadata": {
      "byteLimit": 2048000,
      "rowLimit": 10000
     },
     "inputWidgets": {},
     "nuid": "dc386ad2-6c9d-4bb8-8f5e-0488e5e15bc3",
     "showTitle": false,
     "title": ""
    }
   },
   "outputs": [],
   "source": [
    "chat_completion = client.chat.completions.create(\n",
    "    messages=[\n",
    "        {\n",
    "            \"role\": \"system\",\n",
    "            \"content\": \"You are a helpful assistant that translates English to French.\"\n",
    "        },\n",
    "        {\n",
    "            \"role\": \"user\",\n",
    "            \"content\": \"Translate this sentence from English to French. I love programming.\",\n",
    "        }\n",
    "    ],\n",
    "    model=\"gpt-35-turbo\",\n",
    "    temperature=0,\n",
    "    stream=False\n",
    ")\n",
    "#chat_completion\n",
    "print(chat_completion.choices[0].message.content)"
   ]
  },
  {
   "cell_type": "code",
   "execution_count": 0,
   "metadata": {
    "application/vnd.databricks.v1+cell": {
     "cellMetadata": {
      "byteLimit": 2048000,
      "rowLimit": 10000
     },
     "inputWidgets": {},
     "nuid": "7aef53f0-cb1d-45be-8611-2b72f0899d9e",
     "showTitle": false,
     "title": ""
    }
   },
   "outputs": [],
   "source": [
    "chat_completion = client.chat.completions.create(\n",
    "    messages=[\n",
    "        {\"role\": \"system\", \"content\": \"You are a helpful assistant.\"},\n",
    "        {\"role\": \"user\", \"content\": \"Help me translate the following corporate jargon into plain English.\"},\n",
    "        {\"role\": \"assistant\", \"content\": \"Sure, I'd be happy to!\"},\n",
    "        {\"role\": \"user\", \"content\": \"New synergies will help drive top-line growth.\"},\n",
    "    ],\n",
    "    model=\"gpt-35-turbo\",\n",
    "    temperature=0,\n",
    "    stream=False\n",
    ")\n",
    "\n",
    "print(chat_completion.choices[0].message.content)"
   ]
  },
  {
   "cell_type": "markdown",
   "metadata": {
    "application/vnd.databricks.v1+cell": {
     "cellMetadata": {},
     "inputWidgets": {},
     "nuid": "8353ddc0-38c4-4c9a-aa6a-0ae65dbbfa19",
     "showTitle": false,
     "title": ""
    }
   },
   "source": [
    "#### [Connecting using LlamaIndex](https://code.rbi.tech/raiffeisen/aa-llm-utils/blob/main/notebooks/llama_index.ipynb) framework"
   ]
  },
  {
   "cell_type": "code",
   "execution_count": 0,
   "metadata": {
    "application/vnd.databricks.v1+cell": {
     "cellMetadata": {
      "byteLimit": 2048000,
      "rowLimit": 10000
     },
     "inputWidgets": {},
     "nuid": "2f342d42-a8bc-455d-ad49-5c42b6283373",
     "showTitle": false,
     "title": ""
    }
   },
   "outputs": [],
   "source": [
    "llm = RBILIOpenAI(model=\"gpt-35-turbo-16k\", key=key, client_id=client_id)\n",
    "#llm = RBILIOpenAI(model=\"gpt-4\", key=key, client_id=client_id)\n",
    "embed_model = RBILIOpenAIEmbeddings(key=key, client_id=client_id)\n",
    "from llama_index.core.llms import ChatMessage, MessageRole\n",
    "#from llama_index import ServiceContext"
   ]
  },
  {
   "cell_type": "code",
   "execution_count": 0,
   "metadata": {
    "application/vnd.databricks.v1+cell": {
     "cellMetadata": {
      "byteLimit": 2048000,
      "rowLimit": 10000
     },
     "inputWidgets": {},
     "nuid": "a79460fc-ca89-400a-b95e-8800f51231c4",
     "showTitle": false,
     "title": ""
    }
   },
   "outputs": [],
   "source": [
    "msg = \"Joel, Bndy and Lorenz go for a beer to celebrate\"\n",
    "resp = llm.complete(msg)\n",
    "print(resp.text)"
   ]
  },
  {
   "cell_type": "code",
   "execution_count": 0,
   "metadata": {
    "application/vnd.databricks.v1+cell": {
     "cellMetadata": {
      "byteLimit": 2048000,
      "rowLimit": 10000
     },
     "inputWidgets": {},
     "nuid": "a6bc16fe-5f57-4c7b-82a4-b4615c732994",
     "showTitle": false,
     "title": ""
    }
   },
   "outputs": [],
   "source": [
    "resp = llm.chat(\n",
    "    [\n",
    "        ChatMessage(content=\"You are a helpful assistant that translates English to French.\", \n",
    "                    role=MessageRole.SYSTEM),\n",
    "        ChatMessage(content=\"Translate this sentence from English to French. I love programming.\", \n",
    "                    role=MessageRole.USER),\n",
    "    ]\n",
    ")\n",
    "print(resp.message)\n",
    "print(resp.message.content)"
   ]
  },
  {
   "cell_type": "code",
   "execution_count": 0,
   "metadata": {
    "application/vnd.databricks.v1+cell": {
     "cellMetadata": {
      "byteLimit": 2048000,
      "rowLimit": 10000
     },
     "inputWidgets": {},
     "nuid": "b0b69cd9-f4cb-4984-b6c7-5ad7e2a3a214",
     "showTitle": false,
     "title": ""
    }
   },
   "outputs": [],
   "source": [
    "embeddings = embed_model.get_text_embedding(\"It is raining cats and dogs here!\")\n",
    "embeddings[0:10]"
   ]
  },
  {
   "cell_type": "code",
   "execution_count": 0,
   "metadata": {
    "application/vnd.databricks.v1+cell": {
     "cellMetadata": {
      "byteLimit": 2048000,
      "rowLimit": 10000
     },
     "inputWidgets": {},
     "nuid": "5bcd4d92-54fa-41d9-88a9-a21b6c066f37",
     "showTitle": false,
     "title": ""
    }
   },
   "outputs": [],
   "source": [
    "embeddings = embed_model.get_text_embedding(\"It is raining cats and dogs here!\")\n",
    "embeddings"
   ]
  },
  {
   "cell_type": "markdown",
   "metadata": {
    "application/vnd.databricks.v1+cell": {
     "cellMetadata": {},
     "inputWidgets": {},
     "nuid": "87757079-3677-4109-9b5e-5b7f9f0c553c",
     "showTitle": false,
     "title": ""
    }
   },
   "source": [
    "#### [Connecting using Langchain](https://code.rbi.tech/raiffeisen/aa-llm-utils/blob/main/notebooks/langchain.ipynb) framework"
   ]
  },
  {
   "cell_type": "code",
   "execution_count": 0,
   "metadata": {
    "application/vnd.databricks.v1+cell": {
     "cellMetadata": {
      "byteLimit": 2048000,
      "rowLimit": 10000
     },
     "inputWidgets": {},
     "nuid": "3c3c8b23-94c6-40b6-bf01-4540ced6f535",
     "showTitle": false,
     "title": ""
    }
   },
   "outputs": [],
   "source": [
    "chat_llm = RBILCChatOpenAI(key=key, client_id=client_id, model=\"gpt-35-turbo\", temperature=0)\n",
    "embeddings = RBILCOpenAIEmbeddings(key=key, client_id=client_id,)\n",
    "from langchain.schema import HumanMessage, SystemMessage"
   ]
  },
  {
   "cell_type": "code",
   "execution_count": 0,
   "metadata": {
    "application/vnd.databricks.v1+cell": {
     "cellMetadata": {
      "byteLimit": 2048000,
      "rowLimit": 10000
     },
     "inputWidgets": {},
     "nuid": "86869610-6b37-4a5c-bce6-b2781b721300",
     "showTitle": false,
     "title": ""
    }
   },
   "outputs": [],
   "source": [
    "messages = [\n",
    "    SystemMessage(\n",
    "        content=\"You are a helpful assistant that translates English to French.\"\n",
    "    ),\n",
    "    HumanMessage(\n",
    "        content=\"Translate this sentence from English to French. I love programming.\"\n",
    "    ),\n",
    "]\n",
    "chat_llm.invoke(messages)"
   ]
  },
  {
   "cell_type": "code",
   "execution_count": 0,
   "metadata": {
    "application/vnd.databricks.v1+cell": {
     "cellMetadata": {
      "byteLimit": 2048000,
      "rowLimit": 10000
     },
     "inputWidgets": {},
     "nuid": "c4520156-ed8a-4d08-9948-b6503232c99e",
     "showTitle": false,
     "title": ""
    }
   },
   "outputs": [],
   "source": [
    "text = \"This is a test query.\"\n",
    "query_result = embeddings.embed_query(text)\n",
    "query_result"
   ]
  },
  {
   "cell_type": "code",
   "execution_count": 0,
   "metadata": {
    "application/vnd.databricks.v1+cell": {
     "cellMetadata": {},
     "inputWidgets": {},
     "nuid": "78a06416-5055-4f91-b0e1-c3d201b25820",
     "showTitle": false,
     "title": ""
    }
   },
   "outputs": [],
   "source": []
  }
 ],
 "metadata": {
  "application/vnd.databricks.v1+notebook": {
   "dashboards": [],
   "language": "python",
   "notebookMetadata": {
    "pythonIndentUnit": 4
   },
   "notebookName": "2-Connecting_RBI_endpoint",
   "widgets": {}
  },
  "kernelspec": {
   "display_name": "Python 3 (ipykernel)",
   "language": "python",
   "name": "python3"
  },
  "language_info": {
   "codemirror_mode": {
    "name": "ipython",
    "version": 3
   },
   "file_extension": ".py",
   "mimetype": "text/x-python",
   "name": "python",
   "nbconvert_exporter": "python",
   "pygments_lexer": "ipython3",
   "version": "3.10.6"
  }
 },
 "nbformat": 4,
 "nbformat_minor": 0
}
