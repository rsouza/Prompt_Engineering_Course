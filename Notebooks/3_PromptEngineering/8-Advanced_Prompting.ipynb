{
 "cells": [
  {
   "cell_type": "markdown",
   "metadata": {
    "application/vnd.databricks.v1+cell": {
     "cellMetadata": {
      "byteLimit": 2048000,
      "rowLimit": 10000
     },
     "inputWidgets": {},
     "nuid": "883e0a02-d065-430e-89b5-e4434ef02159",
     "showTitle": false,
     "title": ""
    },
    "id": "JMXGlIvAwn30"
   },
   "source": [
    "# Advanced prompts\n",
    "\n",
    "In this notebook, we will explore some prompt advanced patterns  \n",
    "+ Few-shots prompt\n",
    "+ Chain of Thought prompt\n",
    "+ Program-Aided Language Models (PAL)\n",
    "+ REACT\n",
    "+ CO-STAR"
   ]
  },
  {
   "cell_type": "code",
   "execution_count": 0,
   "metadata": {
    "application/vnd.databricks.v1+cell": {
     "cellMetadata": {
      "byteLimit": 2048000,
      "rowLimit": 10000
     },
     "inputWidgets": {},
     "nuid": "323c47a4-1444-46c0-8f3a-055f5e305944",
     "showTitle": false,
     "title": ""
    }
   },
   "outputs": [],
   "source": [
    "!pip install -qU openai\n",
    "dbutils.library.restartPython()"
   ]
  },
  {
   "cell_type": "code",
   "execution_count": 0,
   "metadata": {
    "application/vnd.databricks.v1+cell": {
     "cellMetadata": {
      "byteLimit": 2048000,
      "rowLimit": 10000
     },
     "inputWidgets": {},
     "nuid": "9c164feb-3355-47d8-81d5-21fba212172f",
     "showTitle": false,
     "title": ""
    }
   },
   "outputs": [],
   "source": [
    "import os\n",
    "import openai\n",
    "from openai import OpenAI\n",
    "from openai import AzureOpenAI\n",
    "\n",
    "openai.api_type = \"azure\"\n",
    "openai.api_base = \"https://rg-rbi-aa-aitest-dsacademy.openai.azure.com/\"\n",
    "#openai.api_base = \"https://chatgpt-summarization.openai.azure.com/\"\n",
    "openai.api_version = \"2023-07-01-preview\"\n",
    "openai.api_key = os.environ[\"OPENAI_API_KEY\"]\n",
    "\n",
    "openai_deploy_name = \"model-gpt-35-turbo\"\n",
    "openai_model_name = \"gpt-35-turbo\"\n",
    "\n",
    "client = AzureOpenAI(api_key=openai.api_key,\n",
    "                     api_version=openai.api_version,\n",
    "                     azure_endpoint=openai.api_base,\n",
    "                     )\n",
    "\n",
    "#https://platform.openai.com/docs/api-reference/introduction\n",
    "def ask(prompt):\n",
    "    try:\n",
    "        chat_completion = client.chat.completions.create(\n",
    "            model=openai_deploy_name,\n",
    "            messages=[\n",
    "                {\"role\": \"system\", \"content\": \"You are a helpful assistant.\"},\n",
    "                {\"role\": \"system\", \"content\": \"Forget everything I said before.\"},\n",
    "                {\"role\": \"user\", \"content\": f\"{prompt}\"},\n",
    "            ],\n",
    "            temperature=0,\n",
    "            )\n",
    "        return(chat_completion.choices[0].message.content)\n",
    "    except openai.error.APIError as e:\n",
    "        print(f\"OpenAI API returned an API Error: {e}\")\n",
    "    except openai.error.AuthenticationError as e:\n",
    "        print(f\"OpenAI API returned an Authentication Error: {e}\")\n",
    "    except openai.error.APIConnectionError as e:\n",
    "        print(f\"Failed to connect to OpenAI API: {e}\")\n",
    "    except openai.error.InvalidRequestError as e:\n",
    "        print(f\"Invalid Request Error: {e}\")\n",
    "    except openai.error.RateLimitError as e:\n",
    "        print(f\"OpenAI API request exceeded rate limit: {e}\")\n",
    "    except openai.error.ServiceUnavailableError as e:\n",
    "        print(f\"Service Unavailable: {e}\")\n",
    "    except openai.error.Timeout as e:\n",
    "        print(f\"Request timed out: {e}\")\n",
    "    except:\n",
    "        print(\"An exception has occured.\")"
   ]
  },
  {
   "cell_type": "markdown",
   "metadata": {
    "application/vnd.databricks.v1+cell": {
     "cellMetadata": {},
     "inputWidgets": {},
     "nuid": "14a9d8ad-5101-4024-ac12-4cecbf255d5c",
     "showTitle": false,
     "title": ""
    }
   },
   "source": [
    "### Few-shots prompt"
   ]
  },
  {
   "cell_type": "code",
   "execution_count": 0,
   "metadata": {
    "application/vnd.databricks.v1+cell": {
     "cellMetadata": {
      "byteLimit": 2048000,
      "rowLimit": 10000
     },
     "inputWidgets": {},
     "nuid": "a4b7fa91-441c-4bf0-8e1d-013c695e9e41",
     "showTitle": false,
     "title": ""
    }
   },
   "outputs": [],
   "source": [
    "#Without Few-shots prompt\n",
    "ask(\"Please analyze the sentiment of the following sentence: 'This phone lasts all day on a single charge. It’s amazing!'\")"
   ]
  },
  {
   "cell_type": "code",
   "execution_count": 0,
   "metadata": {
    "application/vnd.databricks.v1+cell": {
     "cellMetadata": {
      "byteLimit": 2048000,
      "rowLimit": 10000
     },
     "inputWidgets": {},
     "nuid": "3215ffb8-a671-40c6-a3eb-b580f86bf620",
     "showTitle": false,
     "title": ""
    }
   },
   "outputs": [],
   "source": [
    "#With Few-shots prompt\n",
    "\n",
    "query = \"\"\"\n",
    "I will provide you with a series of sentences. \n",
    "After each sentence, please analyze the sentiment expressed and categorize it as “Positive,” “Negative,” or “Neutral.”\n",
    "\n",
    "1) “I absolutely love the friendly service at that restaurant.” Sentiment: Positive\n",
    "2) “The movie was a complete waste of time and money.” Sentiment: Negative\n",
    "3) “It’s a typical day, nothing much happening.” Sentiment: Neutral\n",
    "\n",
    "Now, please analyze the sentiment of the following sentences:\n",
    "\n",
    "“This phone lasts all day on a single charge. It’s amazing!”\n",
    "\"\"\"\n",
    "\n",
    "ask(query)"
   ]
  },
  {
   "cell_type": "markdown",
   "metadata": {
    "application/vnd.databricks.v1+cell": {
     "cellMetadata": {},
     "inputWidgets": {},
     "nuid": "90973a7b-e02f-4fa5-a817-622373a789e1",
     "showTitle": false,
     "title": ""
    }
   },
   "source": [
    "### Chain of Thought prompt"
   ]
  },
  {
   "cell_type": "code",
   "execution_count": 0,
   "metadata": {
    "application/vnd.databricks.v1+cell": {
     "cellMetadata": {
      "byteLimit": 2048000,
      "rowLimit": 10000
     },
     "inputWidgets": {},
     "nuid": "a5774beb-8b6f-4d92-9960-6b6630542b9f",
     "showTitle": false,
     "title": ""
    }
   },
   "outputs": [],
   "source": [
    "#Without Chain of Thought\n",
    "\n",
    "query = \"\"\"\n",
    "Question: What will be the atomic number of the next element to be added to the periodic table of elements?\n",
    "\"\"\"\n",
    "\n",
    "ask(query)"
   ]
  },
  {
   "cell_type": "code",
   "execution_count": 0,
   "metadata": {
    "application/vnd.databricks.v1+cell": {
     "cellMetadata": {
      "byteLimit": 2048000,
      "rowLimit": 10000
     },
     "inputWidgets": {},
     "nuid": "201ce84a-e8b1-47f7-89c2-c49ea0928839",
     "showTitle": false,
     "title": ""
    }
   },
   "outputs": [],
   "source": [
    "#With Chain of Thought\n",
    "\n",
    "query = \"\"\"\n",
    "Every element we add to the periodic table of elements has a bigger atomic number comparing to the successor.\n",
    "The next element's atomic number adds one to the atomic number of previous one in the periodic table.\n",
    "Oganesson, the last element to be added, has the atomic number of 118.\n",
    "\n",
    "Question: What will be the atomic number of the next element to be added to the periodic table of elements?\n",
    "\"\"\"\n",
    "\n",
    "ask(query)"
   ]
  },
  {
   "cell_type": "markdown",
   "metadata": {
    "application/vnd.databricks.v1+cell": {
     "cellMetadata": {},
     "inputWidgets": {},
     "nuid": "4b6cedf2-4fe5-44f5-9b98-b82f07184f53",
     "showTitle": false,
     "title": ""
    }
   },
   "source": [
    "### Program-Aided Language Models (PAL)"
   ]
  },
  {
   "cell_type": "code",
   "execution_count": 0,
   "metadata": {
    "application/vnd.databricks.v1+cell": {
     "cellMetadata": {},
     "inputWidgets": {},
     "nuid": "39d19f78-26b8-4573-8d8d-fdf08a2e33f9",
     "showTitle": false,
     "title": ""
    }
   },
   "outputs": [],
   "source": [
    "#Without PAL\n",
    "ask(\"Write a LinkedIn post to advertise Raiffeisen new product called voiceBot, to allow electronic banking transactions via voice.\")"
   ]
  },
  {
   "cell_type": "code",
   "execution_count": 0,
   "metadata": {
    "application/vnd.databricks.v1+cell": {
     "cellMetadata": {},
     "inputWidgets": {},
     "nuid": "76f0c8e2-ff89-4589-a5fe-d68dd28945a9",
     "showTitle": false,
     "title": ""
    }
   },
   "outputs": [],
   "source": [
    "#With PAL\n",
    "\n",
    "query = \"\"\"\n",
    "\n",
    "\"\"\"\n",
    "\n",
    "ask(query)"
   ]
  },
  {
   "cell_type": "markdown",
   "metadata": {
    "application/vnd.databricks.v1+cell": {
     "cellMetadata": {},
     "inputWidgets": {},
     "nuid": "960cf918-ff60-4d95-ae31-d1edd2cb17bb",
     "showTitle": false,
     "title": ""
    }
   },
   "source": [
    "### REACT"
   ]
  },
  {
   "cell_type": "code",
   "execution_count": 0,
   "metadata": {
    "application/vnd.databricks.v1+cell": {
     "cellMetadata": {},
     "inputWidgets": {},
     "nuid": "1ba07453-cea0-4089-aaaa-a3f2661360e1",
     "showTitle": false,
     "title": ""
    }
   },
   "outputs": [],
   "source": [
    "#Without REACT\n",
    "ask(\"Write a LinkedIn post to advertise Raiffeisen new product called voiceBot, to allow electronic banking transactions via voice.\")"
   ]
  },
  {
   "cell_type": "code",
   "execution_count": 0,
   "metadata": {
    "application/vnd.databricks.v1+cell": {
     "cellMetadata": {},
     "inputWidgets": {},
     "nuid": "cd517fa6-6d2f-4d2d-ac0a-d9a722a39168",
     "showTitle": false,
     "title": ""
    }
   },
   "outputs": [],
   "source": [
    "#With REACT\n",
    "\n",
    "query = \"\"\"\n",
    "\n",
    "\"\"\"\n",
    "\n",
    "ask(query)"
   ]
  },
  {
   "cell_type": "markdown",
   "metadata": {
    "application/vnd.databricks.v1+cell": {
     "cellMetadata": {},
     "inputWidgets": {},
     "nuid": "6dfb4c3e-d228-4b5e-97ad-7d60e5a59f4d",
     "showTitle": false,
     "title": ""
    }
   },
   "source": [
    "### CO-STAR  \n",
    "\n",
    "Effective prompt structuring is crucial for eliciting optimal responses from an LLM. The CO-STAR framework is a handy template for structuring prompts.  \n",
    "It considers all the key aspects that influence the effectiveness and relevance of an LLM’s response, leading to more optimal responses.  \n",
    "[source](https://towardsdatascience.com/how-i-won-singapores-gpt-4-prompt-engineering-competition-34c195a93d41)"
   ]
  },
  {
   "cell_type": "code",
   "execution_count": 0,
   "metadata": {
    "application/vnd.databricks.v1+cell": {
     "cellMetadata": {
      "byteLimit": 2048000,
      "rowLimit": 10000
     },
     "inputWidgets": {},
     "nuid": "4e390169-8864-4b8f-8b80-695f511dd518",
     "showTitle": false,
     "title": ""
    }
   },
   "outputs": [],
   "source": [
    "#Without CO-STAR\n",
    "ask(\"Write a LinkedIn post to advertise Raiffeisen new product called voiceBot, to allow electronic banking transactions via voice.\")"
   ]
  },
  {
   "cell_type": "code",
   "execution_count": 0,
   "metadata": {
    "application/vnd.databricks.v1+cell": {
     "cellMetadata": {
      "byteLimit": 2048000,
      "rowLimit": 10000
     },
     "inputWidgets": {},
     "nuid": "33057482-399b-4771-9281-7e86803de14c",
     "showTitle": false,
     "title": ""
    }
   },
   "outputs": [],
   "source": [
    "#With CO-STAR\n",
    "\n",
    "query = \"\"\"\n",
    "# CONTEXT #\n",
    "I want to advertise my company’s new product. My company’s name is Raiffeisen and the product is called VoiceBot, that allow electronic banking transactions via voice.\n",
    "\n",
    "# OBJECTIVE #\n",
    "Create a LinkedIn post for me, which aims to get people to click on the link to read it.\n",
    "\n",
    "# STYLE #\n",
    "Follow the writing style of successful companies on the same sector that advertise similar products.\n",
    "\n",
    "# TONE #\n",
    "Persuasive\n",
    "\n",
    "# AUDIENCE #\n",
    "My company’s audience profile on LinkedIn is typically the older generation. Tailor your post to target what this audience typically looks out for in hair products.\n",
    "\n",
    "# RESPONSE #\n",
    "The LinkedIn post\n",
    "\"\"\"\n",
    "\n",
    "ask(query)"
   ]
  },
  {
   "cell_type": "code",
   "execution_count": 0,
   "metadata": {
    "application/vnd.databricks.v1+cell": {
     "cellMetadata": {},
     "inputWidgets": {},
     "nuid": "a4f66823-a067-40f5-92f0-420c271935b2",
     "showTitle": false,
     "title": ""
    }
   },
   "outputs": [],
   "source": []
  }
 ],
 "metadata": {
  "application/vnd.databricks.v1+notebook": {
   "dashboards": [],
   "language": "python",
   "notebookMetadata": {
    "pythonIndentUnit": 4
   },
   "notebookName": "8-Advanced_Prompting",
   "widgets": {}
  },
  "kernelspec": {
   "display_name": "Python 3 (ipykernel)",
   "language": "python",
   "name": "python3"
  },
  "language_info": {
   "codemirror_mode": {
    "name": "ipython",
    "version": 3
   },
   "file_extension": ".py",
   "mimetype": "text/x-python",
   "name": "python",
   "nbconvert_exporter": "python",
   "pygments_lexer": "ipython3",
   "version": "3.10.9"
  }
 },
 "nbformat": 4,
 "nbformat_minor": 0
}
