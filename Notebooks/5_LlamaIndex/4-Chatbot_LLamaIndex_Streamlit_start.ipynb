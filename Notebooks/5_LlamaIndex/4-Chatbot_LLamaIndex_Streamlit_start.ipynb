{
 "cells": [
  {
   "cell_type": "markdown",
   "metadata": {
    "application/vnd.databricks.v1+cell": {
     "cellMetadata": {
      "byteLimit": 2048000,
      "rowLimit": 10000
     },
     "inputWidgets": {},
     "nuid": "e664a6a8-404e-4a51-b017-d52a0159f34d",
     "showTitle": false,
     "title": ""
    }
   },
   "source": [
    "### Calling Streamlit App  \n"
   ]
  },
  {
   "cell_type": "code",
   "execution_count": 0,
   "metadata": {
    "application/vnd.databricks.v1+cell": {
     "cellMetadata": {
      "byteLimit": 2048000,
      "rowLimit": 10000
     },
     "inputWidgets": {},
     "nuid": "b05e53a2-34a6-471b-8813-355643bd73df",
     "showTitle": false,
     "title": ""
    }
   },
   "outputs": [],
   "source": [
    "!pip install -q llama-index==0.9.47 \n",
    "!pip install -q streamlit"
   ]
  },
  {
   "cell_type": "code",
   "execution_count": 0,
   "metadata": {
    "application/vnd.databricks.v1+cell": {
     "cellMetadata": {
      "byteLimit": 2048000,
      "rowLimit": 10000
     },
     "inputWidgets": {},
     "nuid": "38bbc560-b450-4ab2-9fe2-5b4bd9dd41cb",
     "showTitle": false,
     "title": ""
    }
   },
   "outputs": [],
   "source": [
    "import os\n",
    "import sys\n",
    "import subprocess\n",
    "\n",
    "base_url='https://' + spark.conf.get(\"spark.databricks.workspaceUrl\")\n",
    "workspace_id=spark.conf.get(\"spark.databricks.clusterUsageTags.orgId\")\n",
    "cluster_id=spark.conf.get(\"spark.databricks.clusterUsageTags.clusterId\")\n",
    "dashboard_port='8501'\n",
    "pathname_prefix='/driver-proxy/o/' + workspace_id + '/' + cluster_id + '/' + dashboard_port\n",
    "dashboard_url=base_url + pathname_prefix + '/app' \n",
    "print(\"Once the dashbord is running, it can be accessed at this link:\\n\\n\" + dashboard_url)\n",
    "\n",
    "!streamlit run --server.baseUrlPath=/app \\\n",
    "/Workspace/Repos/renato.rocha-souza@rbinternational.com/LLM_Course/Notebooks/5_LlamaIndex/4-Chatbot_LLamaIndex_Streamlit_backend.py \\\n",
    "--server.enableCORS=False \\\n",
    "--server.enableXsrfProtection=False \\\n",
    "--browser.gatherUsageStats=False"
   ]
  }
 ],
 "metadata": {
  "application/vnd.databricks.v1+notebook": {
   "dashboards": [],
   "language": "python",
   "notebookMetadata": {
    "pythonIndentUnit": 4
   },
   "notebookName": "4-Chatbot_LLamaIndex_Streamlit_start",
   "widgets": {}
  }
 },
 "nbformat": 4,
 "nbformat_minor": 0
}
