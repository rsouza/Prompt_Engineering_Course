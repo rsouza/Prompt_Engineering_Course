{
 "cells": [
  {
   "cell_type": "markdown",
   "metadata": {
    "application/vnd.databricks.v1+cell": {
     "cellMetadata": {
      "byteLimit": 2048000,
      "rowLimit": 10000
     },
     "inputWidgets": {},
     "nuid": "68a58098-cc0b-4bef-9db4-1c9747eb08ae",
     "showTitle": false,
     "title": ""
    }
   },
   "source": [
    "# LangChain: Agents\n",
    "\n",
    "The core idea of agents is to use an LLM to choose a sequence of actions to take. In chains, a sequence of actions is hardcoded (in code).  \n",
    "In agents, a language model is used as a reasoning engine to determine which actions to take and in which order.\n",
    "\n",
    "\n",
    "## Outline:\n",
    "\n",
    "* Using built in LangChain tools: Python REPL, Pandas, Wikipedia...\n",
    "* Defining your own tools"
   ]
  },
  {
   "cell_type": "code",
   "execution_count": 0,
   "metadata": {
    "application/vnd.databricks.v1+cell": {
     "cellMetadata": {
      "byteLimit": 2048000,
      "rowLimit": 10000
     },
     "inputWidgets": {},
     "nuid": "23929b62-444f-4107-ba70-01f4134457eb",
     "showTitle": false,
     "title": ""
    },
    "height": 115,
    "tags": []
   },
   "outputs": [],
   "source": [
    "import os\n",
    "import glob\n",
    "from pathlib import Path\n",
    "import pandas as pd\n",
    "\n",
    "import openai\n",
    "import langchain\n",
    "\n",
    "#from langchain.llms import OpenAI\n",
    "from langchain.llms import AzureOpenAI\n",
    "\n",
    "#from langchain.chat_models import ChatOpenAI\n",
    "from langchain.chat_models import AzureChatOpenAI\n",
    "\n",
    "from langchain.schema import HumanMessage\n",
    "\n",
    "from langchain.agents.agent_toolkits import create_python_agent\n",
    "from langchain.agents import create_pandas_dataframe_agent\n",
    "from langchain.agents import load_tools, initialize_agent\n",
    "from langchain.agents import AgentType\n",
    "\n",
    "from langchain.chains import PALChain\n",
    "from langchain.chains import LLMMathChain\n",
    "\n",
    "from langchain.tools.python.tool import PythonREPLTool\n",
    "from langchain.python import PythonREPL"
   ]
  },
  {
   "cell_type": "markdown",
   "metadata": {
    "application/vnd.databricks.v1+cell": {
     "cellMetadata": {
      "byteLimit": 2048000,
      "rowLimit": 10000
     },
     "inputWidgets": {},
     "nuid": "9c61356b-4b36-4bd9-8ef9-881228822af2",
     "showTitle": false,
     "title": ""
    }
   },
   "source": [
    "#### Loading the ´gpt-35-turbo´ model"
   ]
  },
  {
   "cell_type": "code",
   "execution_count": 0,
   "metadata": {
    "application/vnd.databricks.v1+cell": {
     "cellMetadata": {
      "byteLimit": 2048000,
      "rowLimit": 10000
     },
     "inputWidgets": {},
     "nuid": "10e8d65e-bb3a-43fa-bf62-d17c658689c7",
     "showTitle": false,
     "title": ""
    }
   },
   "outputs": [],
   "source": [
    "openai.api_type = \"azure\"\n",
    "openai.api_base = \"https://rg-rbi-aa-aitest-dsacademy.openai.azure.com/\"\n",
    "openai.api_key = os.environ[\"OPENAI_API_KEY\"]\n",
    "\n",
    "openai_model_name = \"gpt-35-turbo\"\n",
    "openai_deploy_name = \"model-gpt-35-turbo\"\n",
    "openai.api_version = \"2023-07-01-preview\""
   ]
  },
  {
   "cell_type": "code",
   "execution_count": 0,
   "metadata": {
    "application/vnd.databricks.v1+cell": {
     "cellMetadata": {
      "byteLimit": 2048000,
      "rowLimit": 10000
     },
     "inputWidgets": {},
     "nuid": "e79f8d2e-9404-443b-b922-fff89de16b38",
     "showTitle": false,
     "title": ""
    },
    "height": 30,
    "tags": []
   },
   "outputs": [],
   "source": [
    "llm = AzureChatOpenAI(openai_api_base=openai.api_base,\n",
    "                      openai_api_version=openai.api_version,\n",
    "                      deployment_name=openai_deploy_name,\n",
    "                      openai_api_key=os.environ[\"OPENAI_API_KEY\"],\n",
    "                      openai_api_type=openai.api_type,\n",
    "                      temperature=0,\n",
    "                      max_retries=2\n",
    "                      #max_tokens=4000,\n",
    "                      )\n",
    "\n",
    "\n",
    "llm"
   ]
  },
  {
   "cell_type": "markdown",
   "metadata": {
    "application/vnd.databricks.v1+cell": {
     "cellMetadata": {
      "byteLimit": 2048000,
      "rowLimit": 10000
     },
     "inputWidgets": {},
     "nuid": "8a565341-fbc4-4579-9b30-a4181958eea6",
     "showTitle": false,
     "title": ""
    }
   },
   "source": [
    "\n",
    "## Simple calls to Agents\n",
    "\n",
    "PAL stands for Programme Aided Language Model. PALChain reads complex math problems (described in natural language) and generates programs (for solving the math problem) as the intermediate reasoning steps, but offloads the solution step to a runtime such as a Python interpreter. "
   ]
  },
  {
   "cell_type": "markdown",
   "metadata": {
    "application/vnd.databricks.v1+cell": {
     "cellMetadata": {},
     "inputWidgets": {},
     "nuid": "9653fee6-1fc3-40b8-9757-519cace299ce",
     "showTitle": false,
     "title": ""
    }
   },
   "source": [
    "In this first call to the Python Agent, the LLM gets right anyway"
   ]
  },
  {
   "cell_type": "code",
   "execution_count": 0,
   "metadata": {
    "application/vnd.databricks.v1+cell": {
     "cellMetadata": {
      "byteLimit": 2048000,
      "rowLimit": 10000
     },
     "inputWidgets": {},
     "nuid": "77a4faa3-ee77-41d1-a9c6-cb8e6d2051ba",
     "showTitle": false,
     "title": ""
    }
   },
   "outputs": [],
   "source": [
    "query = \"If my age is half of my dad's age and he is going to be 60 next year, what is the age of my brother, which is two years younger than me?\"\n",
    "response = llm(messages=[HumanMessage(content=query)])\n",
    "print(response.content)\n",
    "print(response)"
   ]
  },
  {
   "cell_type": "code",
   "execution_count": 0,
   "metadata": {
    "application/vnd.databricks.v1+cell": {
     "cellMetadata": {
      "byteLimit": 2048000,
      "rowLimit": 10000
     },
     "inputWidgets": {},
     "nuid": "be8e0f95-80cd-417f-a32a-b75929706656",
     "showTitle": false,
     "title": ""
    }
   },
   "outputs": [],
   "source": [
    "palchain = PALChain.from_math_prompt(llm=llm, verbose=True)\n",
    "palchain.run(\"If my age is half of my dad's age and he is going to be 60 next year, what is the age of my brother, which is two years younger than me?\")"
   ]
  },
  {
   "cell_type": "markdown",
   "metadata": {
    "application/vnd.databricks.v1+cell": {
     "cellMetadata": {
      "byteLimit": 2048000,
      "rowLimit": 10000
     },
     "inputWidgets": {},
     "nuid": "b835ab8c-3d61-46b4-8bf8-f673be05b9e9",
     "showTitle": false,
     "title": ""
    }
   },
   "source": [
    "We can check the full prompt generated by palchain, with some few shots as examples:"
   ]
  },
  {
   "cell_type": "code",
   "execution_count": 0,
   "metadata": {
    "application/vnd.databricks.v1+cell": {
     "cellMetadata": {
      "byteLimit": 2048000,
      "rowLimit": 10000
     },
     "inputWidgets": {},
     "nuid": "cf19ce29-eda5-4ca6-91ed-032a7d1d7f3a",
     "showTitle": false,
     "title": ""
    }
   },
   "outputs": [],
   "source": [
    "palchain.prompt.template"
   ]
  },
  {
   "cell_type": "markdown",
   "metadata": {
    "application/vnd.databricks.v1+cell": {
     "cellMetadata": {},
     "inputWidgets": {},
     "nuid": "c936cf15-0f17-4da1-badd-0a3dbdc39750",
     "showTitle": false,
     "title": ""
    }
   },
   "source": [
    "But in this second call, the Python agent figures out how to provide the missing information (the year)"
   ]
  },
  {
   "cell_type": "code",
   "execution_count": 0,
   "metadata": {
    "application/vnd.databricks.v1+cell": {
     "cellMetadata": {
      "byteLimit": 2048000,
      "rowLimit": 10000
     },
     "inputWidgets": {},
     "nuid": "2e37a2e4-13f5-4e39-a203-99c512a00d5a",
     "showTitle": false,
     "title": ""
    }
   },
   "outputs": [],
   "source": [
    "query = \"In which day of week the Austrian National Holiday will be next year?\"\n",
    "response = llm(messages=[HumanMessage(content=query)])\n",
    "print(response.content)\n",
    "print(response)"
   ]
  },
  {
   "cell_type": "code",
   "execution_count": 0,
   "metadata": {
    "application/vnd.databricks.v1+cell": {
     "cellMetadata": {
      "byteLimit": 2048000,
      "rowLimit": 10000
     },
     "inputWidgets": {},
     "nuid": "c43be10f-049d-4874-9625-7c45a5e56fe8",
     "showTitle": false,
     "title": ""
    }
   },
   "outputs": [],
   "source": [
    "palchain = PALChain.from_math_prompt(llm=llm, verbose=True)\n",
    "palchain.run(\"In which day of week the Austrian National Holiday will be next year?\")"
   ]
  },
  {
   "cell_type": "markdown",
   "metadata": {
    "application/vnd.databricks.v1+cell": {
     "cellMetadata": {
      "byteLimit": 2048000,
      "rowLimit": 10000
     },
     "inputWidgets": {},
     "nuid": "e6bd7c08-f34f-4860-b05b-67f2466d9ba5",
     "showTitle": false,
     "title": ""
    }
   },
   "source": [
    "## Using the Python Agent explicitly:"
   ]
  },
  {
   "cell_type": "code",
   "execution_count": 0,
   "metadata": {
    "application/vnd.databricks.v1+cell": {
     "cellMetadata": {
      "byteLimit": 2048000,
      "rowLimit": 10000
     },
     "inputWidgets": {},
     "nuid": "13464a76-2bac-49ee-bd08-67e535e6c54a",
     "showTitle": false,
     "title": ""
    },
    "height": 98
   },
   "outputs": [],
   "source": [
    "agent = create_python_agent(llm,\n",
    "                            tool=PythonREPLTool(),\n",
    "                            verbose=True\n",
    "                            )"
   ]
  },
  {
   "cell_type": "code",
   "execution_count": 0,
   "metadata": {
    "application/vnd.databricks.v1+cell": {
     "cellMetadata": {
      "byteLimit": 2048000,
      "rowLimit": 10000
     },
     "inputWidgets": {},
     "nuid": "8f67f745-cc44-4c65-84f6-a00372f5f04d",
     "showTitle": false,
     "title": ""
    },
    "height": 149
   },
   "outputs": [],
   "source": [
    "customer_list = [[\"Renato\", \"Fiacchini\"], \n",
    "                 [\"Charles\", \"Aznavour\"],\n",
    "                 [\"Bernhard\", \"Thomas\"],\n",
    "                 [\"Joel\", \"Billy\"], \n",
    "                 [\"David\",\"Goliah\"], \n",
    "                 [\"Brani\",\"Acer\"],\n",
    "                 [\"Georg\",\"Curious\"]\n",
    "                ]"
   ]
  },
  {
   "cell_type": "code",
   "execution_count": 0,
   "metadata": {
    "application/vnd.databricks.v1+cell": {
     "cellMetadata": {
      "byteLimit": 2048000,
      "rowLimit": 10000
     },
     "inputWidgets": {},
     "nuid": "1bf7ef68-a082-4be7-a7fd-ee6205a6004e",
     "showTitle": false,
     "title": ""
    },
    "height": 64
   },
   "outputs": [],
   "source": [
    "langchain.debug=True\n",
    "agent.run(f\"\"\"Sort these customers by \\\n",
    "last name and then first name \\\n",
    "and print the output: {customer_list}\"\"\") \n",
    "langchain.debug=False"
   ]
  },
  {
   "cell_type": "code",
   "execution_count": 0,
   "metadata": {
    "application/vnd.databricks.v1+cell": {
     "cellMetadata": {
      "byteLimit": 2048000,
      "rowLimit": 10000
     },
     "inputWidgets": {},
     "nuid": "353e9d55-d753-441a-a4c5-2d50637ac211",
     "showTitle": false,
     "title": ""
    }
   },
   "outputs": [],
   "source": [
    "agent.run(f\"\"\"What are the char codes for each name on the list in hexadecimal: {customer_list}\"\"\")"
   ]
  },
  {
   "cell_type": "markdown",
   "metadata": {
    "application/vnd.databricks.v1+cell": {
     "cellMetadata": {
      "byteLimit": 2048000,
      "rowLimit": 10000
     },
     "inputWidgets": {},
     "nuid": "81cbb53e-3ebd-44c0-96e6-25dc61dc275b",
     "showTitle": false,
     "title": ""
    }
   },
   "source": [
    "##### We have to be aware of the immense capacity of the models..."
   ]
  },
  {
   "cell_type": "code",
   "execution_count": 0,
   "metadata": {
    "application/vnd.databricks.v1+cell": {
     "cellMetadata": {
      "byteLimit": 2048000,
      "rowLimit": 10000
     },
     "inputWidgets": {},
     "nuid": "da4bd3f2-21c4-40e3-865e-39f4a24bdbbe",
     "showTitle": false,
     "title": ""
    }
   },
   "outputs": [],
   "source": [
    "def collatz(n):\n",
    "    print(n)\n",
    "    while n != 1:\n",
    "        if n%2 == 0:\n",
    "            n /= 2\n",
    "        else:\n",
    "            n = (3*n) + 1\n",
    "        print(int(n), end=\" \")\n",
    "\n",
    "collatz(45)"
   ]
  },
  {
   "cell_type": "code",
   "execution_count": 0,
   "metadata": {
    "application/vnd.databricks.v1+cell": {
     "cellMetadata": {
      "byteLimit": 2048000,
      "rowLimit": 10000
     },
     "inputWidgets": {},
     "nuid": "a6be3098-8ac6-45ec-9a10-d9767ea5e404",
     "showTitle": false,
     "title": ""
    }
   },
   "outputs": [],
   "source": [
    "query1 = \"Print the Collatz sequence for the number 45\"\n",
    "query2 = \"What is the biggest prime number below 1 billion?\"\n",
    "response = llm(messages=[HumanMessage(content=query1)])\n",
    "print(response.content)"
   ]
  },
  {
   "cell_type": "code",
   "execution_count": 0,
   "metadata": {
    "application/vnd.databricks.v1+cell": {
     "cellMetadata": {
      "byteLimit": 2048000,
      "rowLimit": 10000
     },
     "inputWidgets": {},
     "nuid": "76341771-00b0-41b9-bc42-5bb8fda76876",
     "showTitle": false,
     "title": ""
    }
   },
   "outputs": [],
   "source": [
    "langchain.debug=True\n",
    "print(agent.run(query1))"
   ]
  },
  {
   "cell_type": "markdown",
   "metadata": {
    "application/vnd.databricks.v1+cell": {
     "cellMetadata": {
      "byteLimit": 2048000,
      "rowLimit": 10000
     },
     "inputWidgets": {},
     "nuid": "21f9d533-c816-4ec9-aaca-8460e67986c2",
     "showTitle": false,
     "title": ""
    }
   },
   "source": [
    "## Loading specific Agents"
   ]
  },
  {
   "cell_type": "code",
   "execution_count": 0,
   "metadata": {
    "application/vnd.databricks.v1+cell": {
     "cellMetadata": {},
     "inputWidgets": {},
     "nuid": "9971c5f2-bc7e-425b-a877-0355f5573788",
     "showTitle": false,
     "title": ""
    }
   },
   "outputs": [],
   "source": [
    "!pip install -Uq wikipedia"
   ]
  },
  {
   "cell_type": "code",
   "execution_count": 0,
   "metadata": {
    "application/vnd.databricks.v1+cell": {
     "cellMetadata": {
      "byteLimit": 2048000,
      "rowLimit": 10000
     },
     "inputWidgets": {},
     "nuid": "0c1c841d-5015-42f5-a6c5-8d1a46a7e552",
     "showTitle": false,
     "title": ""
    },
    "height": 30,
    "tags": []
   },
   "outputs": [],
   "source": [
    "tools = load_tools([\"llm-math\",\"wikipedia\"], llm=llm)"
   ]
  },
  {
   "cell_type": "code",
   "execution_count": 0,
   "metadata": {
    "application/vnd.databricks.v1+cell": {
     "cellMetadata": {
      "byteLimit": 2048000,
      "rowLimit": 10000
     },
     "inputWidgets": {},
     "nuid": "8dbe8513-b2f7-4714-8335-b5eabe96d328",
     "showTitle": false,
     "title": ""
    },
    "height": 115,
    "tags": []
   },
   "outputs": [],
   "source": [
    "agent= initialize_agent(tools,\n",
    "                        llm,\n",
    "                        agent=AgentType.CHAT_ZERO_SHOT_REACT_DESCRIPTION,\n",
    "                        handle_parsing_errors=True,\n",
    "                        verbose = True)"
   ]
  },
  {
   "cell_type": "markdown",
   "metadata": {
    "application/vnd.databricks.v1+cell": {
     "cellMetadata": {
      "byteLimit": 2048000,
      "rowLimit": 10000
     },
     "inputWidgets": {},
     "nuid": "53e69107-de7d-4f84-b014-79970e31701e",
     "showTitle": false,
     "title": ""
    }
   },
   "source": [
    "## Wikipedia (blocked by firewall)"
   ]
  },
  {
   "cell_type": "code",
   "execution_count": 0,
   "metadata": {
    "application/vnd.databricks.v1+cell": {
     "cellMetadata": {
      "byteLimit": 2048000,
      "rowLimit": 10000
     },
     "inputWidgets": {},
     "nuid": "4aeffc8c-2e06-4ee1-9663-be70fdd34b11",
     "showTitle": false,
     "title": ""
    }
   },
   "outputs": [],
   "source": [
    "import wikipedia\n",
    "wikipedia.search(\"Barack\")"
   ]
  },
  {
   "cell_type": "code",
   "execution_count": 0,
   "metadata": {
    "application/vnd.databricks.v1+cell": {
     "cellMetadata": {
      "byteLimit": 2048000,
      "rowLimit": 10000
     },
     "inputWidgets": {},
     "nuid": "22566a17-ad90-499e-b72d-01af99c7eb61",
     "showTitle": false,
     "title": ""
    }
   },
   "outputs": [],
   "source": [
    "ny = wikipedia.page(\"New York\")\n",
    "print(ny.title)\n",
    "print(ny.url)\n",
    "print(ny.content)\n",
    "print(ny.links[0])"
   ]
  },
  {
   "cell_type": "code",
   "execution_count": 0,
   "metadata": {
    "application/vnd.databricks.v1+cell": {
     "cellMetadata": {
      "byteLimit": 2048000,
      "rowLimit": 10000
     },
     "inputWidgets": {},
     "nuid": "2a01e422-4e79-4c37-8ce2-090a30e96e35",
     "showTitle": false,
     "title": ""
    },
    "height": 98
   },
   "outputs": [],
   "source": [
    "langchain.debug=True\n",
    "question = \"Tom M. Mitchell is an American computer scientist \\\n",
    "and the Founders University Professor at Carnegie Mellon University (CMU)\\\n",
    "what book did he write?\"\n",
    "result = agent(question)\n",
    "langchain.debug=False"
   ]
  },
  {
   "cell_type": "markdown",
   "metadata": {
    "application/vnd.databricks.v1+cell": {
     "cellMetadata": {},
     "inputWidgets": {},
     "nuid": "17ce8e74-4757-4857-a70c-645a256df445",
     "showTitle": false,
     "title": ""
    }
   },
   "source": [
    "## LLM-Math"
   ]
  },
  {
   "cell_type": "code",
   "execution_count": 0,
   "metadata": {
    "application/vnd.databricks.v1+cell": {
     "cellMetadata": {
      "byteLimit": 2048000,
      "rowLimit": 10000
     },
     "inputWidgets": {},
     "nuid": "bc7bdcd2-5515-44ea-8822-0840305492d4",
     "showTitle": false,
     "title": ""
    },
    "height": 30
   },
   "outputs": [],
   "source": [
    "langchain.debug=False\n",
    "agent(\"How much is 25% of 300?\")\n",
    "langchain.debug=False"
   ]
  },
  {
   "cell_type": "markdown",
   "metadata": {
    "application/vnd.databricks.v1+cell": {
     "cellMetadata": {},
     "inputWidgets": {},
     "nuid": "3f141b75-7403-4647-83bc-e551e47c9468",
     "showTitle": false,
     "title": ""
    }
   },
   "source": [
    "## Duck Duck Go (blocked by firewall)"
   ]
  },
  {
   "cell_type": "code",
   "execution_count": 0,
   "metadata": {
    "application/vnd.databricks.v1+cell": {
     "cellMetadata": {
      "byteLimit": 2048000,
      "rowLimit": 10000
     },
     "inputWidgets": {},
     "nuid": "72eed396-312b-4341-98a2-d9e644396b9d",
     "showTitle": false,
     "title": ""
    }
   },
   "outputs": [],
   "source": [
    "!pip install -q duckduckgo-search"
   ]
  },
  {
   "cell_type": "code",
   "execution_count": 0,
   "metadata": {
    "application/vnd.databricks.v1+cell": {
     "cellMetadata": {
      "byteLimit": 2048000,
      "rowLimit": 10000
     },
     "inputWidgets": {},
     "nuid": "873ce857-ebbc-4909-bf24-7f886f4f10e3",
     "showTitle": false,
     "title": ""
    }
   },
   "outputs": [],
   "source": [
    "from langchain.tools import DuckDuckGoSearchRun"
   ]
  },
  {
   "cell_type": "code",
   "execution_count": 0,
   "metadata": {
    "application/vnd.databricks.v1+cell": {
     "cellMetadata": {
      "byteLimit": 2048000,
      "rowLimit": 10000
     },
     "inputWidgets": {},
     "nuid": "efaca96d-1ff7-4ef5-b69d-c3d32eb156ac",
     "showTitle": false,
     "title": ""
    }
   },
   "outputs": [],
   "source": [
    "search = DuckDuckGoSearchRun()"
   ]
  },
  {
   "cell_type": "code",
   "execution_count": 0,
   "metadata": {
    "application/vnd.databricks.v1+cell": {
     "cellMetadata": {
      "byteLimit": 2048000,
      "rowLimit": 10000
     },
     "inputWidgets": {},
     "nuid": "25e39465-c92b-4705-a14f-3109faf8188a",
     "showTitle": false,
     "title": ""
    }
   },
   "outputs": [],
   "source": [
    "search.run(\"Obama's first name?\")"
   ]
  },
  {
   "cell_type": "markdown",
   "metadata": {
    "application/vnd.databricks.v1+cell": {
     "cellMetadata": {},
     "inputWidgets": {},
     "nuid": "43ebbadb-1b35-495f-9c6a-8e0aa0a771e4",
     "showTitle": false,
     "title": ""
    }
   },
   "source": [
    "## Pandas Agent"
   ]
  },
  {
   "cell_type": "code",
   "execution_count": 0,
   "metadata": {
    "application/vnd.databricks.v1+cell": {
     "cellMetadata": {
      "byteLimit": 2048000,
      "rowLimit": 10000
     },
     "inputWidgets": {},
     "nuid": "79ccb6bc-fc3d-4eb8-a72b-5e955af06af3",
     "showTitle": false,
     "title": ""
    }
   },
   "outputs": [],
   "source": [
    "df = pd.read_csv('./Data/Data.csv')\n",
    "df.head(10)"
   ]
  },
  {
   "cell_type": "code",
   "execution_count": 0,
   "metadata": {
    "application/vnd.databricks.v1+cell": {
     "cellMetadata": {
      "byteLimit": 2048000,
      "rowLimit": 10000
     },
     "inputWidgets": {},
     "nuid": "e58b8820-c44c-408d-aef6-174156d55382",
     "showTitle": false,
     "title": ""
    }
   },
   "outputs": [],
   "source": [
    "langchain.debug=False\n",
    "pandas_agent = create_pandas_dataframe_agent(llm=llm, df=df, verbose=False)"
   ]
  },
  {
   "cell_type": "code",
   "execution_count": 0,
   "metadata": {
    "application/vnd.databricks.v1+cell": {
     "cellMetadata": {
      "byteLimit": 2048000,
      "rowLimit": 10000
     },
     "inputWidgets": {},
     "nuid": "a5824a16-7693-48e6-95e0-3fb77128ce64",
     "showTitle": false,
     "title": ""
    }
   },
   "outputs": [],
   "source": [
    "pandas_agent.run(\"how many rows are there?\")"
   ]
  },
  {
   "cell_type": "code",
   "execution_count": 0,
   "metadata": {
    "application/vnd.databricks.v1+cell": {
     "cellMetadata": {
      "byteLimit": 2048000,
      "rowLimit": 10000
     },
     "inputWidgets": {},
     "nuid": "a181d8db-2f73-40b5-92d4-dbf9a75bd153",
     "showTitle": false,
     "title": ""
    }
   },
   "outputs": [],
   "source": [
    "pandas_agent.run(\"Is there a review about pillows? Please show me it\")"
   ]
  },
  {
   "cell_type": "markdown",
   "metadata": {
    "application/vnd.databricks.v1+cell": {
     "cellMetadata": {
      "byteLimit": 2048000,
      "rowLimit": 10000
     },
     "inputWidgets": {},
     "nuid": "8b54198a-94e5-4d0c-a65e-2a9129f454e9",
     "showTitle": false,
     "title": ""
    }
   },
   "source": [
    "## Define your own tool"
   ]
  },
  {
   "cell_type": "code",
   "execution_count": 0,
   "metadata": {
    "application/vnd.databricks.v1+cell": {
     "cellMetadata": {
      "byteLimit": 2048000,
      "rowLimit": 10000
     },
     "inputWidgets": {},
     "nuid": "10421718-b672-4323-a252-8534fde6ec47",
     "showTitle": false,
     "title": ""
    },
    "height": 47,
    "tags": []
   },
   "outputs": [],
   "source": [
    "from langchain.agents import tool\n",
    "from datetime import date"
   ]
  },
  {
   "cell_type": "code",
   "execution_count": 0,
   "metadata": {
    "application/vnd.databricks.v1+cell": {
     "cellMetadata": {
      "byteLimit": 2048000,
      "rowLimit": 10000
     },
     "inputWidgets": {},
     "nuid": "204f6009-fa64-4727-ada5-e6b60f524ca9",
     "showTitle": false,
     "title": ""
    }
   },
   "outputs": [],
   "source": [
    "@tool\n",
    "def my_color(text: str) -> str:\n",
    "    \"\"\"I use different colors of T-shirts\n",
    "    depending on the day of month.\n",
    "    I use White in the even days and\n",
    "    I use Black in the odd days\n",
    "    This function tells me which color \n",
    "    to use\"\"\"\n",
    "    day = date.today().day\n",
    "    if day%2 == 0:\n",
    "        return \"White\"\n",
    "    return \"Black\""
   ]
  },
  {
   "cell_type": "code",
   "execution_count": 0,
   "metadata": {
    "application/vnd.databricks.v1+cell": {
     "cellMetadata": {
      "byteLimit": 2048000,
      "rowLimit": 10000
     },
     "inputWidgets": {},
     "nuid": "72fdbff7-0314-40f3-8419-88bb541ea5c7",
     "showTitle": false,
     "title": ""
    },
    "height": 115,
    "tags": []
   },
   "outputs": [],
   "source": [
    "agent= initialize_agent([my_color],\n",
    "                        llm,\n",
    "                        agent=AgentType.CHAT_ZERO_SHOT_REACT_DESCRIPTION,\n",
    "                        handle_parsing_errors=True,\n",
    "                        verbose = False)"
   ]
  },
  {
   "cell_type": "code",
   "execution_count": 0,
   "metadata": {
    "application/vnd.databricks.v1+cell": {
     "cellMetadata": {
      "byteLimit": 2048000,
      "rowLimit": 10000
     },
     "inputWidgets": {},
     "nuid": "11d7ba08-887b-4db7-9809-d39a0866b595",
     "showTitle": false,
     "title": ""
    },
    "height": 81
   },
   "outputs": [],
   "source": [
    "langchain.debug=False\n",
    "\n",
    "try:\n",
    "    result = agent(\"What t-shirt color should I use today\")\n",
    "    print(result)\n",
    "except: \n",
    "    print(\"exception on external access\")\n",
    "\n",
    "langchain.debug=False"
   ]
  },
  {
   "cell_type": "code",
   "execution_count": 0,
   "metadata": {
    "application/vnd.databricks.v1+cell": {
     "cellMetadata": {},
     "inputWidgets": {},
     "nuid": "6b2f0314-eb9f-40b1-b75d-6e58e1d3ea92",
     "showTitle": false,
     "title": ""
    }
   },
   "outputs": [],
   "source": []
  }
 ],
 "metadata": {
  "application/vnd.databricks.v1+notebook": {
   "dashboards": [],
   "language": "python",
   "notebookMetadata": {
    "pythonIndentUnit": 4
   },
   "notebookName": "5-Agents",
   "widgets": {}
  },
  "kernelspec": {
   "display_name": "Python 3 (ipykernel)",
   "language": "python",
   "name": "python3"
  },
  "language_info": {
   "codemirror_mode": {
    "name": "ipython",
    "version": 3
   },
   "file_extension": ".py",
   "mimetype": "text/x-python",
   "name": "python",
   "nbconvert_exporter": "python",
   "pygments_lexer": "ipython3",
   "version": "3.9.16"
  }
 },
 "nbformat": 4,
 "nbformat_minor": 0
}
