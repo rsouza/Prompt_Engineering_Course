{
 "cells": [
  {
   "cell_type": "code",
   "execution_count": 0,
   "metadata": {
    "application/vnd.databricks.v1+cell": {
     "cellMetadata": {
      "byteLimit": 2048000,
      "rowLimit": 10000
     },
     "inputWidgets": {},
     "nuid": "88eb44a5-0c95-4f91-a761-242ea4795cf9",
     "showTitle": false,
     "title": ""
    }
   },
   "outputs": [
    {
     "output_type": "stream",
     "name": "stdout",
     "output_type": "stream",
     "text": [
      "Looking in indexes: https://artifacts.rbi.tech/artifactory/api/pypi/pypi-group/simple\r\nCollecting accelerate\r\n  Downloading https://artifacts.rbi.tech/artifactory/api/pypi/pypi-group/packages/packages/e7/87/25dd46811431cfc5e8d6ba8c80758cb3131574b271fbf06cf1b691dba8d4/accelerate-0.18.0-py3-none-any.whl (215 kB)\r\n\u001B[?25l\r\u001B[K     |█▌                              | 10 kB 67.9 MB/s eta 0:00:01\r\u001B[K     |███                             | 20 kB 51.8 MB/s eta 0:00:01\r\u001B[K     |████▋                           | 30 kB 65.7 MB/s eta 0:00:01\r\u001B[K     |██████                          | 40 kB 61.4 MB/s eta 0:00:01\r\u001B[K     |███████▋                        | 51 kB 67.6 MB/s eta 0:00:01\r\u001B[K     |█████████▏                      | 61 kB 75.4 MB/s eta 0:00:01\r\u001B[K     |██████████▋                     | 71 kB 81.9 MB/s eta 0:00:01\r\u001B[K     |████████████▏                   | 81 kB 52.3 MB/s eta 0:00:01\r\u001B[K     |█████████████▊                  | 92 kB 56.3 MB/s eta 0:00:01\r\u001B[K     |███████████████▏                | 102 kB 56.1 MB/s eta 0:00:01\r\u001B[K     |████████████████▊               | 112 kB 56.1 MB/s eta 0:00:01\r\u001B[K     |██████████████████▎             | 122 kB 56.1 MB/s eta 0:00:01\r\u001B[K     |███████████████████▉            | 133 kB 56.1 MB/s eta 0:00:01\r\u001B[K     |█████████████████████▎          | 143 kB 56.1 MB/s eta 0:00:01\r\u001B[K     |██████████████████████▉         | 153 kB 56.1 MB/s eta 0:00:01\r\u001B[K     |████████████████████████▍       | 163 kB 56.1 MB/s eta 0:00:01\r\u001B[K     |█████████████████████████▉      | 174 kB 56.1 MB/s eta 0:00:01\r\u001B[K     |███████████████████████████▍    | 184 kB 56.1 MB/s eta 0:00:01\r\u001B[K     |█████████████████████████████   | 194 kB 56.1 MB/s eta 0:00:01\r\u001B[K     |██████████████████████████████▍ | 204 kB 56.1 MB/s eta 0:00:01\r\u001B[K     |████████████████████████████████| 215 kB 56.1 MB/s eta 0:00:01\r\u001B[K     |████████████████████████████████| 215 kB 56.1 MB/s \r\n\u001B[?25hCollecting deepspeed\r\n  Downloading https://artifacts.rbi.tech/artifactory/api/pypi/pypi-group/packages/packages/fb/68/99dd7c647aeb1c7e2af16c7fc23a3ca5891fc6e0b2438f730aeaf6ff06f4/deepspeed-0.9.0.tar.gz (764 kB)\r\n\u001B[?25l\r\u001B[K     |▍                               | 10 kB 59.1 MB/s eta 0:00:01\r\u001B[K     |▉                               | 20 kB 68.2 MB/s eta 0:00:01\r\u001B[K     |█▎                              | 30 kB 83.4 MB/s eta 0:00:01\r\u001B[K     |█▊                              | 40 kB 91.3 MB/s eta 0:00:01\r\u001B[K     |██▏                             | 51 kB 98.6 MB/s eta 0:00:01\r\u001B[K     |██▋                             | 61 kB 107.2 MB/s eta 0:00:01\r\u001B[K     |███                             | 71 kB 112.6 MB/s eta 0:00:01\r\u001B[K     |███▍                            | 81 kB 73.6 MB/s eta 0:00:01\r\u001B[K     |███▉                            | 92 kB 73.4 MB/s eta 0:00:01\r\u001B[K     |████▎                           | 102 kB 76.1 MB/s eta 0:00:01\r\u001B[K     |████▊                           | 112 kB 76.1 MB/s eta 0:00:01\r\u001B[K     |█████▏                          | 122 kB 76.1 MB/s eta 0:00:01\r\u001B[K     |█████▋                          | 133 kB 76.1 MB/s eta 0:00:01\r\u001B[K     |██████                          | 143 kB 76.1 MB/s eta 0:00:01\r\u001B[K     |██████▍                         | 153 kB 76.1 MB/s eta 0:00:01\r\u001B[K     |██████▉                         | 163 kB 76.1 MB/s eta 0:00:01\r\u001B[K     |███████▎                        | 174 kB 76.1 MB/s eta 0:00:01\r\u001B[K     |███████▊                        | 184 kB 76.1 MB/s eta 0:00:01\r\u001B[K     |████████▏                       | 194 kB 76.1 MB/s eta 0:00:01\r\u001B[K     |████████▋                       | 204 kB 76.1 MB/s eta 0:00:01\r\u001B[K     |█████████                       | 215 kB 76.1 MB/s eta 0:00:01\r\u001B[K     |█████████▍                      | 225 kB 76.1 MB/s eta 0:00:01\r\u001B[K     |█████████▉                      | 235 kB 76.1 MB/s eta 0:00:01\r\u001B[K     |██████████▎                     | 245 kB 76.1 MB/s eta 0:00:01\r\u001B[K     |██████████▊                     | 256 kB 76.1 MB/s eta 0:00:01\r\u001B[K     |███████████▏                    | 266 kB 76.1 MB/s eta 0:00:01\r\u001B[K     |███████████▋                    | 276 kB 76.1 MB/s eta 0:00:01\r\u001B[K     |████████████                    | 286 kB 76.1 MB/s eta 0:00:01\r\u001B[K     |████████████▍                   | 296 kB 76.1 MB/s eta 0:00:01\r\u001B[K     |████████████▉                   | 307 kB 76.1 MB/s eta 0:00:01\r\u001B[K     |█████████████▎                  | 317 kB 76.1 MB/s eta 0:00:01\r\u001B[K     |█████████████▊                  | 327 kB 76.1 MB/s eta 0:00:01\r\u001B[K     |██████████████▏                 | 337 kB 76.1 MB/s eta 0:00:01\r\u001B[K     |██████████████▋                 | 348 kB 76.1 MB/s eta 0:00:01\r\u001B[K     |███████████████                 | 358 kB 76.1 MB/s eta 0:00:01\r\u001B[K     |███████████████▍                | 368 kB 76.1 MB/s eta 0:00:01\r\u001B[K     |███████████████▉                | 378 kB 76.1 MB/s eta 0:00:01\r\u001B[K     |████████████████▎               | 389 kB 76.1 MB/s eta 0:00:01\r\u001B[K     |████████████████▊               | 399 kB 76.1 MB/s eta 0:00:01\r\u001B[K     |█████████████████▏              | 409 kB 76.1 MB/s eta 0:00:01\r\u001B[K     |█████████████████▋              | 419 kB 76.1 MB/s eta 0:00:01\r\u001B[K     |██████████████████              | 430 kB 76.1 MB/s eta 0:00:01\r\u001B[K     |██████████████████▍             | 440 kB 76.1 MB/s eta 0:00:01\r\u001B[K     |██████████████████▉             | 450 kB 76.1 MB/s eta 0:00:01\r\u001B[K     |███████████████████▎            | 460 kB 76.1 MB/s eta 0:00:01\r\u001B[K     |███████████████████▊            | 471 kB 76.1 MB/s eta 0:00:01\r\u001B[K     |████████████████████▏           | 481 kB 76.1 MB/s eta 0:00:01\r\u001B[K     |████████████████████▋           | 491 kB 76.1 MB/s eta 0:00:01\r\u001B[K     |█████████████████████           | 501 kB 76.1 MB/s eta 0:00:01\r\u001B[K     |█████████████████████▍          | 512 kB 76.1 MB/s eta 0:00:01\r\u001B[K     |█████████████████████▉          | 522 kB 76.1 MB/s eta 0:00:01\r\u001B[K     |██████████████████████▎         | 532 kB 76.1 MB/s eta 0:00:01\r\u001B[K     |██████████████████████▊         | 542 kB 76.1 MB/s eta 0:00:01\r\u001B[K     |███████████████████████▏        | 552 kB 76.1 MB/s eta 0:00:01\r\u001B[K     |███████████████████████▋        | 563 kB 76.1 MB/s eta 0:00:01\r\u001B[K     |████████████████████████        | 573 kB 76.1 MB/s eta 0:00:01\r\u001B[K     |████████████████████████▍       | 583 kB 76.1 MB/s eta 0:00:01\r\u001B[K     |████████████████████████▉       | 593 kB 76.1 MB/s eta 0:00:01\r\u001B[K     |█████████████████████████▎      | 604 kB 76.1 MB/s eta 0:00:01\r\u001B[K     |█████████████████████████▊      | 614 kB 76.1 MB/s eta 0:00:01\r\u001B[K     |██████████████████████████▏     | 624 kB 76.1 MB/s eta 0:00:01\r\u001B[K     |██████████████████████████▋     | 634 kB 76.1 MB/s eta 0:00:01\r\u001B[K     |███████████████████████████     | 645 kB 76.1 MB/s eta 0:00:01\r\u001B[K     |███████████████████████████▍    | 655 kB 76.1 MB/s eta 0:00:01\r\u001B[K     |███████████████████████████▉    | 665 kB 76.1 MB/s eta 0:00:01\r\u001B[K     |████████████████████████████▎   | 675 kB 76.1 MB/s eta 0:00:01\r\u001B[K     |████████████████████████████▊   | 686 kB 76.1 MB/s eta 0:00:01\r\u001B[K     |█████████████████████████████▏  | 696 kB 76.1 MB/s eta 0:00:01\r\u001B[K     |█████████████████████████████▋  | 706 kB 76.1 MB/s eta 0:00:01\r\u001B[K     |██████████████████████████████  | 716 kB 76.1 MB/s eta 0:00:01\r\u001B[K     |██████████████████████████████▍ | 727 kB 76.1 MB/s eta 0:00:01\r\u001B[K     |██████████████████████████████▉ | 737 kB 76.1 MB/s eta 0:00:01\r\u001B[K     |███████████████████████████████▎| 747 kB 76.1 MB/s eta 0:00:01\r\u001B[K     |███████████████████████████████▊| 757 kB 76.1 MB/s eta 0:00:01\r\u001B[K     |████████████████████████████████| 764 kB 76.1 MB/s \r\n\u001B[?25hCollecting mpi4py\r\n  Downloading https://artifacts.rbi.tech/artifactory/api/pypi/pypi-group/packages/packages/bc/f2/749af7fd0e7703ddca6cea525ab40f26c3ca6cbe6c23658441c6f9705860/mpi4py-3.1.4.tar.gz (2.5 MB)\r\n\u001B[?25l\r\u001B[K     |▏                               | 10 kB 51.5 MB/s eta 0:00:01\r\u001B[K     |▎                               | 20 kB 51.4 MB/s eta 0:00:01\r\u001B[K     |▍                               | 30 kB 62.2 MB/s eta 0:00:01\r\u001B[K     |▌                               | 40 kB 71.9 MB/s eta 0:00:01\r\u001B[K     |▋                               | 51 kB 77.3 MB/s eta 0:00:01\r\u001B[K     |▉                               | 61 kB 85.8 MB/s eta 0:00:01\r\u001B[K     |█                               | 71 kB 89.0 MB/s eta 0:00:01\r\u001B[K     |█                               | 81 kB 92.9 MB/s eta 0:00:01\r\u001B[K     |█▏                              | 92 kB 98.4 MB/s eta 0:00:01\r\u001B[K     |█▎                              | 102 kB 101.2 MB/s eta 0:00:01\r\u001B[K     |█▌                              | 112 kB 101.2 MB/s eta 0:00:01\r\u001B[K     |█▋                              | 122 kB 101.2 MB/s eta 0:00:01\r\u001B[K     |█▊                              | 133 kB 101.2 MB/s eta 0:00:01\r\u001B[K     |█▉                              | 143 kB 101.2 MB/s eta 0:00:01\r\u001B[K     |██                              | 153 kB 101.2 MB/s eta 0:00:01\r\u001B[K     |██                              | 163 kB 101.2 MB/s eta 0:00:01\r\u001B[K     |██▎                             | 174 kB 101.2 MB/s eta 0:00:01\r\u001B[K     |██▍                             | 184 kB 101.2 MB/s eta 0:00:01\r\u001B[K     |██▌                             | 194 kB 101.2 MB/s eta 0:00:01\r\u001B[K     |██▋                             | 204 kB 101.2 MB/s eta 0:00:01\r\u001B[K     |██▊                             | 215 kB 101.2 MB/s eta 0:00:01\r\u001B[K     |███                             | 225 kB 101.2 MB/s eta 0:00:01\r\u001B[K     |███                             | 235 kB 101.2 MB/s eta 0:00:01\r\u001B[K     |███▏                            | 245 kB 101.2 MB/s eta 0:00:01\r\u001B[K     |███▎                            | 256 kB 101.2 MB/s eta 0:00:01\r\u001B[K     |███▍                            | 266 kB 101.2 MB/s eta 0:00:01\r\u001B[K     |███▌                            | 276 kB 101.2 MB/s eta 0:00:01\r\u001B[K     |███▊                            | 286 kB 101.2 MB/s eta 0:00:01\r\u001B[K     |███▉                            | 296 kB 101.2 MB/s eta 0:00:01\r\u001B[K     |████                            | 307 kB 101.2 MB/s eta 0:00:01\r\u001B[K     |████                            | 317 kB 101.2 MB/s eta 0:00:01\r\u001B[K     |████▏                           | 327 kB 101.2 MB/s eta 0:00:01\r\u001B[K     |████▍                           | 337 kB 101.2 MB/s eta 0:00:01\r\u001B[K     |████▌                           | 348 kB 101.2 MB/s eta 0:00:01\r\u001B[K     |████▋                           | 358 kB 101.2 MB/s eta 0:00:01\r\u001B[K     |████▊                           | 368 kB 101.2 MB/s eta 0:00:01\r\u001B[K     |████▉                           | 378 kB 101.2 MB/s eta 0:00:01\r\u001B[K     |█████                           | 389 kB 101.2 MB/s eta 0:00:01\r\u001B[K     |█████▏                          | 399 kB 101.2 MB/s eta 0:00:01\r\u001B[K     |█████▎                          | 409 kB 101.2 MB/s eta 0:00:01\r\u001B[K     |█████▍                          | 419 kB 101.2 MB/s eta 0:00:01\r\u001B[K     |█████▌                          | 430 kB 101.2 MB/s eta 0:00:01\r\u001B[K     |█████▋                          | 440 kB 101.2 MB/s eta 0:00:01\r\u001B[K     |█████▉                          | 450 kB 101.2 MB/s eta 0:00:01\r\u001B[K     |██████                          | 460 kB 101.2 MB/s eta 0:00:01\r\u001B[K     |██████                          | 471 kB 101.2 MB/s eta 0:00:01\r\u001B[K     |██████▏                         | 481 kB 101.2 MB/s eta 0:00:01\r\u001B[K     |██████▎                         | 491 kB 101.2 MB/s eta 0:00:01\r\u001B[K     |██████▍                         | 501 kB 101.2 MB/s eta 0:00:01\r\u001B[K     |██████▋                         | 512 kB 101.2 MB/s eta 0:00:01\r\u001B[K     |██████▊                         | 522 kB 101.2 MB/s eta 0:00:01\r\u001B[K     |██████▉                         | 532 kB 101.2 MB/s eta 0:00:01\r\u001B[K     |███████                         | 542 kB 101.2 MB/s eta 0:00:01\r\u001B[K     |███████                         | 552 kB 101.2 MB/s eta 0:00:01\r\u001B[K     |███████▎                        | 563 kB 101.2 MB/s eta 0:00:01\r\u001B[K     |███████▍                        | 573 kB 101.2 MB/s eta 0:00:01\r\u001B[K     |███████▌                        | 583 kB 101.2 MB/s eta 0:00:01\r\u001B[K     |███████▋                        | 593 kB 101.2 MB/s eta 0:00:01\r\u001B[K     |███████▊                        | 604 kB 101.2 MB/s eta 0:00:01\r\u001B[K     |███████▉                        | 614 kB 101.2 MB/s eta 0:00:01\r\u001B[K     |████████                        | 624 kB 101.2 MB/s eta 0:00:01\r\u001B[K     |████████▏                       | 634 kB 101.2 MB/s eta 0:00:01\r\u001B[K     |████████▎                       | 645 kB 101.2 MB/s eta 0:00:01\r\u001B[K     |████████▍                       | 655 kB 101.2 MB/s eta 0:00:01\r\u001B[K     |████████▌                       | 665 kB 101.2 MB/s eta 0:00:01\r\u001B[K     |████████▊                       | 675 kB 101.2 MB/s eta 0:00:01\r\u001B[K     |████████▉                       | 686 kB 101.2 MB/s eta 0:00:01\r\u001B[K     |█████████                       | 696 kB 101.2 MB/s eta 0:00:01\r\u001B[K     |█████████                       | 706 kB 101.2 MB/s eta 0:00:01\r\u001B[K     |█████████▏                      | 716 kB 101.2 MB/s eta 0:00:01\r\u001B[K     |█████████▎                      | 727 kB 101.2 MB/s eta 0:00:01\r\u001B[K     |█████████▌                      | 737 kB 101.2 MB/s eta 0:00:01\r\u001B[K     |█████████▋                      | 747 kB 101.2 MB/s eta 0:00:01\r\u001B[K     |█████████▊                      | 757 kB 101.2 MB/s eta 0:00:01\r\u001B[K     |█████████▉                      | 768 kB 101.2 MB/s eta 0:00:01\r\u001B[K     |██████████                      | 778 kB 101.2 MB/s eta 0:00:01\r\u001B[K     |██████████▏                     | 788 kB 101.2 MB/s eta 0:00:01\r\u001B[K     |██████████▎                     | 798 kB 101.2 MB/s eta 0:00:01\r\u001B[K     |██████████▍                     | 808 kB 101.2 MB/s eta 0:00:01\r\u001B[K     |██████████▌                     | 819 kB 101.2 MB/s eta 0:00:01\r\u001B[K     |██████████▋                     | 829 kB 101.2 MB/s eta 0:00:01\r\u001B[K     |██████████▊                     | 839 kB 101.2 MB/s eta 0:00:01\r\u001B[K     |███████████                     | 849 kB 101.2 MB/s eta 0:00:01\r\u001B[K     |███████████                     | 860 kB 101.2 MB/s eta 0:00:01\r\u001B[K     |███████████▏                    | 870 kB 101.2 MB/s eta 0:00:01\r\u001B[K     |███████████▎                    | 880 kB 101.2 MB/s eta 0:00:01\r\u001B[K     |███████████▍                    | 890 kB 101.2 MB/s eta 0:00:01\r\u001B[K     |███████████▋                    | 901 kB 101.2 MB/s eta 0:00:01\r\u001B[K     |███████████▊                    | 911 kB 101.2 MB/s eta 0:00:01\r\u001B[K     |███████████▉                    | 921 kB 101.2 MB/s eta 0:00:01\r\u001B[K     |████████████                    | 931 kB 101.2 MB/s eta 0:00:01\r\u001B[K     |████████████                    | 942 kB 101.2 MB/s eta 0:00:01\r\u001B[K     |████████████▎                   | 952 kB 101.2 MB/s eta 0:00:01\r\u001B[K     |████████████▍                   | 962 kB 101.2 MB/s eta 0:00:01\r\u001B[K     |████████████▌                   | 972 kB 101.2 MB/s eta 0:00:01\r\u001B[K     |████████████▋                   | 983 kB 101.2 MB/s eta 0:00:01\r\u001B[K     |████████████▊                   | 993 kB 101.2 MB/s eta 0:00:01\r\u001B[K     |████████████▉                   | 1.0 MB 101.2 MB/s eta 0:00:01\r\u001B[K     |█████████████                   | 1.0 MB 101.2 MB/s eta 0:00:01\r\u001B[K     |█████████████▏                  | 1.0 MB 101.2 MB/s eta 0:00:01\r\u001B[K     |█████████████▎                  | 1.0 MB 101.2 MB/s eta 0:00:01\r\u001B[K     |█████████████▍                  | 1.0 MB 101.2 MB/s eta 0:00:01\r\u001B[K     |█████████████▌                  | 1.1 MB 101.2 MB/s eta 0:00:01\r\u001B[K     |█████████████▊                  | 1.1 MB 101.2 MB/s eta 0:00:01\r\u001B[K     |█████████████▉                  | 1.1 MB 101.2 MB/s eta 0:00:01\r\u001B[K     |██████████████                  | 1.1 MB 101.2 MB/s eta 0:00:01\r\u001B[K     |██████████████                  | 1.1 MB 101.2 MB/s eta 0:00:01\r\u001B[K     |██████████████▏                 | 1.1 MB 101.2 MB/s eta 0:00:01\r\u001B[K     |██████████████▎                 | 1.1 MB 101.2 MB/s eta 0:00:01\r\u001B[K     |██████████████▌                 | 1.1 MB 101.2 MB/s eta 0:00:01\r\u001B[K     |██████████████▋                 | 1.1 MB 101.2 MB/s eta 0:00:01\r\u001B[K     |██████████████▊                 | 1.1 MB 101.2 MB/s eta 0:00:01\r\u001B[K     |██████████████▉                 | 1.2 MB 101.2 MB/s eta 0:00:01\r\u001B[K     |███████████████                 | 1.2 MB 101.2 MB/s eta 0:00:01\r\u001B[K     |███████████████▏                | 1.2 MB 101.2 MB/s eta 0:00:01\r\u001B[K     |███████████████▎                | 1.2 MB 101.2 MB/s eta 0:00:01\r\u001B[K     |███████████████▍                | 1.2 MB 101.2 MB/s eta 0:00:01\r\u001B[K     |███████████████▌                | 1.2 MB 101.2 MB/s eta 0:00:01\r\u001B[K     |███████████████▋                | 1.2 MB 101.2 MB/s eta 0:00:01\r\u001B[K     |███████████████▊                | 1.2 MB 101.2 MB/s eta 0:00:01\r\u001B[K     |████████████████                | 1.2 MB 101.2 MB/s eta 0:00:01\r\u001B[K     |████████████████                | 1.2 MB 101.2 MB/s eta 0:00:01\r\u001B[K     |████████████████▏               | 1.3 MB 101.2 MB/s eta 0:00:01\r\u001B[K     |████████████████▎               | 1.3 MB 101.2 MB/s eta 0:00:01\r\u001B[K     |████████████████▍               | 1.3 MB 101.2 MB/s eta 0:00:01\r\u001B[K     |████████████████▋               | 1.3 MB 101.2 MB/s eta 0:00:01\r\u001B[K     |████████████████▊               | 1.3 MB 101.2 MB/s eta 0:00:01\r\u001B[K     |████████████████▉               | 1.3 MB 101.2 MB/s eta 0:00:01\r\u001B[K     |█████████████████               | 1.3 MB 101.2 MB/s eta 0:00:01\r\u001B[K     |█████████████████               | 1.3 MB 101.2 MB/s eta 0:00:01\r\u001B[K     |█████████████████▏              | 1.3 MB 101.2 MB/s eta 0:00:01\r\u001B[K     |█████████████████▍              | 1.4 MB 101.2 MB/s eta 0:00:01\r\u001B[K     |█████████████████▌              | 1.4 MB 101.2 MB/s eta 0:00:01\r\u001B[K     |█████████████████▋              | 1.4 MB 101.2 MB/s eta 0:00:01\r\u001B[K     |█████████████████▊              | 1.4 MB 101.2 MB/s eta 0:00:01\r\u001B[K     |█████████████████▉              | 1.4 MB 101.2 MB/s eta 0:00:01\r\u001B[K     |██████████████████              | 1.4 MB 101.2 MB/s eta 0:00:01\r\u001B[K     |██████████████████▏             | 1.4 MB 101.2 MB/s eta 0:00:01\r\u001B[K     |██████████████████▎             | 1.4 MB 101.2 MB/s eta 0:00:01\r\u001B[K     |██████████████████▍             | 1.4 MB 101.2 MB/s eta 0:00:01\r\u001B[K     |██████████████████▌             | 1.4 MB 101.2 MB/s eta 0:00:01\r\u001B[K     |██████████████████▋             | 1.5 MB 101.2 MB/s eta 0:00:01\r\u001B[K     |██████████████████▉             | 1.5 MB 101.2 MB/s eta 0:00:01\r\u001B[K     |███████████████████             | 1.5 MB 101.2 MB/s eta 0:00:01\r\u001B[K     |███████████████████             | 1.5 MB 101.2 MB/s eta 0:00:01\r\u001B[K     |███████████████████▏            | 1.5 MB 101.2 MB/s eta 0:00:01\r\u001B[K     |███████████████████▎            | 1.5 MB 101.2 MB/s eta 0:00:01\r\u001B[K     |███████████████████▌            | 1.5 MB 101.2 MB/s eta 0:00:01\r\u001B[K     |███████████████████▋            | 1.5 MB 101.2 MB/s eta 0:00:01\r\u001B[K     |███████████████████▊            | 1.5 MB 101.2 MB/s eta 0:00:01\r\u001B[K     |███████████████████▉            | 1.5 MB 101.2 MB/s eta 0:00:01\r\u001B[K     |████████████████████            | 1.6 MB 101.2 MB/s eta 0:00:01\r\u001B[K     |████████████████████            | 1.6 MB 101.2 MB/s eta 0:00:01\r\u001B[K     |████████████████████▎           | 1.6 MB 101.2 MB/s eta 0:00:01\r\u001B[K     |████████████████████▍           | 1.6 MB 101.2 MB/s eta 0:00:01\r\u001B[K     |████████████████████▌           | 1.6 MB 101.2 MB/s eta 0:00:01\r\u001B[K     |████████████████████▋           | 1.6 MB 101.2 MB/s eta 0:00:01\r\u001B[K     |████████████████████▊           | 1.6 MB 101.2 MB/s eta 0:00:01\r\u001B[K     |█████████████████████           | 1.6 MB 101.2 MB/s eta 0:00:01\r\u001B[K     |█████████████████████           | 1.6 MB 101.2 MB/s eta 0:00:01\r\u001B[K     |█████████████████████▏          | 1.6 MB 101.2 MB/s eta 0:00:01\r\u001B[K     |█████████████████████▎          | 1.7 MB 101.2 MB/s eta 0:00:01\r\u001B[K     |█████████████████████▍          | 1.7 MB 101.2 MB/s eta 0:00:01\r\u001B[K     |█████████████████████▌          | 1.7 MB 101.2 MB/s eta 0:00:01\r\u001B[K     |█████████████████████▊          | 1.7 MB 101.2 MB/s eta 0:00:01\r\u001B[K     |█████████████████████▉          | 1.7 MB 101.2 MB/s eta 0:00:01\r\u001B[K     |██████████████████████          | 1.7 MB 101.2 MB/s eta 0:00:01\r\u001B[K     |██████████████████████          | 1.7 MB 101.2 MB/s eta 0:00:01\r\u001B[K     |██████████████████████▏         | 1.7 MB 101.2 MB/s eta 0:00:01\r\u001B[K     |██████████████████████▍         | 1.7 MB 101.2 MB/s eta 0:00:01\r\u001B[K     |██████████████████████▌         | 1.8 MB 101.2 MB/s eta 0:00:01\r\u001B[K     |██████████████████████▋         | 1.8 MB 101.2 MB/s eta 0:00:01\r\u001B[K     |██████████████████████▊         | 1.8 MB 101.2 MB/s eta 0:00:01\r\u001B[K     |██████████████████████▉         | 1.8 MB 101.2 MB/s eta 0:00:01\r\u001B[K     |███████████████████████         | 1.8 MB 101.2 MB/s eta 0:00:01\r\u001B[K     |███████████████████████▏        | 1.8 MB 101.2 MB/s eta 0:00:01\r\u001B[K     |███████████████████████▎        | 1.8 MB 101.2 MB/s eta 0:00:01\r\u001B[K     |███████████████████████▍        | 1.8 MB 101.2 MB/s eta 0:00:01\r\u001B[K     |███████████████████████▌        | 1.8 MB 101.2 MB/s eta 0:00:01\r\u001B[K     |███████████████████████▋        | 1.8 MB 101.2 MB/s eta 0:00:01\r\u001B[K     |███████████████████████▉        | 1.9 MB 101.2 MB/s eta 0:00:01\r\u001B[K     |████████████████████████        | 1.9 MB 101.2 MB/s eta 0:00:01\r\u001B[K     |████████████████████████        | 1.9 MB 101.2 MB/s eta 0:00:01\r\u001B[K     |████████████████████████▏       | 1.9 MB 101.2 MB/s eta 0:00:01\r\u001B[K     |████████████████████████▎       | 1.9 MB 101.2 MB/s eta 0:00:01\r\u001B[K     |████████████████████████▌       | 1.9 MB 101.2 MB/s eta 0:00:01\r\u001B[K     |████████████████████████▋       | 1.9 MB 101.2 MB/s eta 0:00:01\r\u001B[K     |████████████████████████▊       | 1.9 MB 101.2 MB/s eta 0:00:01\r\u001B[K     |████████████████████████▉       | 1.9 MB 101.2 MB/s eta 0:00:01\r\u001B[K     |█████████████████████████       | 1.9 MB 101.2 MB/s eta 0:00:01\r\u001B[K     |█████████████████████████       | 2.0 MB 101.2 MB/s eta 0:00:01\r\u001B[K     |█████████████████████████▎      | 2.0 MB 101.2 MB/s eta 0:00:01\r\u001B[K     |█████████████████████████▍      | 2.0 MB 101.2 MB/s eta 0:00:01\r\u001B[K     |█████████████████████████▌      | 2.0 MB 101.2 MB/s eta 0:00:01\r\u001B[K     |█████████████████████████▋      | 2.0 MB 101.2 MB/s eta 0:00:01\r\u001B[K     |█████████████████████████▊      | 2.0 MB 101.2 MB/s eta 0:00:01\r\u001B[K     |██████████████████████████      | 2.0 MB 101.2 MB/s eta 0:00:01\r\u001B[K     |██████████████████████████      | 2.0 MB 101.2 MB/s eta 0:00:01\r\u001B[K     |██████████████████████████▏     | 2.0 MB 101.2 MB/s eta 0:00:01\r\u001B[K     |██████████████████████████▎     | 2.0 MB 101.2 MB/s eta 0:00:01\r\u001B[K     |██████████████████████████▍     | 2.1 MB 101.2 MB/s eta 0:00:01\r\u001B[K     |██████████████████████████▌     | 2.1 MB 101.2 MB/s eta 0:00:01\r\u001B[K     |██████████████████████████▊     | 2.1 MB 101.2 MB/s eta 0:00:01\r\u001B[K     |██████████████████████████▉     | 2.1 MB 101.2 MB/s eta 0:00:01\r\u001B[K     |███████████████████████████     | 2.1 MB 101.2 MB/s eta 0:00:01\r\u001B[K     |███████████████████████████     | 2.1 MB 101.2 MB/s eta 0:00:01\r\u001B[K     |███████████████████████████▏    | 2.1 MB 101.2 MB/s eta 0:00:01\r\u001B[K     |███████████████████████████▍    | 2.1 MB 101.2 MB/s eta 0:00:01\r\u001B[K     |███████████████████████████▌    | 2.1 MB 101.2 MB/s eta 0:00:01\r\u001B[K     |███████████████████████████▋    | 2.2 MB 101.2 MB/s eta 0:00:01\r\u001B[K     |███████████████████████████▊    | 2.2 MB 101.2 MB/s eta 0:00:01\r\u001B[K     |███████████████████████████▉    | 2.2 MB 101.2 MB/s eta 0:00:01\r\u001B[K     |████████████████████████████    | 2.2 MB 101.2 MB/s eta 0:00:01\r\u001B[K     |████████████████████████████▏   | 2.2 MB 101.2 MB/s eta 0:00:01\r\u001B[K     |████████████████████████████▎   | 2.2 MB 101.2 MB/s eta 0:00:01\r\u001B[K     |████████████████████████████▍   | 2.2 MB 101.2 MB/s eta 0:00:01\r\u001B[K     |████████████████████████████▌   | 2.2 MB 101.2 MB/s eta 0:00:01\r\u001B[K     |████████████████████████████▋   | 2.2 MB 101.2 MB/s eta 0:00:01\r\u001B[K     |████████████████████████████▉   | 2.2 MB 101.2 MB/s eta 0:00:01\r\u001B[K     |█████████████████████████████   | 2.3 MB 101.2 MB/s eta 0:00:01\r\u001B[K     |█████████████████████████████   | 2.3 MB 101.2 MB/s eta 0:00:01\r\u001B[K     |█████████████████████████████▏  | 2.3 MB 101.2 MB/s eta 0:00:01\r\u001B[K     |█████████████████████████████▎  | 2.3 MB 101.2 MB/s eta 0:00:01\r\u001B[K     |█████████████████████████████▍  | 2.3 MB 101.2 MB/s eta 0:00:01\r\u001B[K     |█████████████████████████████▋  | 2.3 MB 101.2 MB/s eta 0:00:01\r\u001B[K     |█████████████████████████████▊  | 2.3 MB 101.2 MB/s eta 0:00:01\r\u001B[K     |█████████████████████████████▉  | 2.3 MB 101.2 MB/s eta 0:00:01\r\u001B[K     |██████████████████████████████  | 2.3 MB 101.2 MB/s eta 0:00:01\r\u001B[K     |██████████████████████████████  | 2.3 MB 101.2 MB/s eta 0:00:01\r\u001B[K     |██████████████████████████████▎ | 2.4 MB 101.2 MB/s eta 0:00:01\r\u001B[K     |██████████████████████████████▍ | 2.4 MB 101.2 MB/s eta 0:00:01\r\u001B[K     |██████████████████████████████▌ | 2.4 MB 101.2 MB/s eta 0:00:01\r\u001B[K     |██████████████████████████████▋ | 2.4 MB 101.2 MB/s eta 0:00:01\r\u001B[K     |██████████████████████████████▊ | 2.4 MB 101.2 MB/s eta 0:00:01\r\u001B[K     |██████████████████████████████▉ | 2.4 MB 101.2 MB/s eta 0:00:01\r\u001B[K     |███████████████████████████████ | 2.4 MB 101.2 MB/s eta 0:00:01\r\u001B[K     |███████████████████████████████▏| 2.4 MB 101.2 MB/s eta 0:00:01\r\u001B[K     |███████████████████████████████▎| 2.4 MB 101.2 MB/s eta 0:00:01\r\u001B[K     |███████████████████████████████▍| 2.4 MB 101.2 MB/s eta 0:00:01\r\u001B[K     |███████████████████████████████▌| 2.5 MB 101.2 MB/s eta 0:00:01\r\u001B[K     |███████████████████████████████▊| 2.5 MB 101.2 MB/s eta 0:00:01\r\u001B[K     |███████████████████████████████▉| 2.5 MB 101.2 MB/s eta 0:00:01\r\u001B[K     |████████████████████████████████| 2.5 MB 101.2 MB/s eta 0:00:01\r\u001B[K     |████████████████████████████████| 2.5 MB 101.2 MB/s \r\n\u001B[?25h  Installing build dependencies ... \u001B[?25l-\b \b\\\b \b|\b \b/\b \b-\b \bdone\r\n\u001B[?25h  Getting requirements to build wheel ... \u001B[?25l-\b \b\\\b \bdone\r\n\u001B[?25h    Preparing wheel metadata ... \u001B[?25l-\b \b\\\b \b|\b \bdone\r\n\u001B[?25hRequirement already satisfied: packaging>=20.0 in /databricks/python3/lib/python3.9/site-packages (from accelerate) (21.3)\r\nRequirement already satisfied: torch>=1.4.0 in /databricks/python3/lib/python3.9/site-packages (from accelerate) (1.13.1+cu117)\r\nRequirement already satisfied: numpy>=1.17 in /databricks/python3/lib/python3.9/site-packages (from accelerate) (1.21.5)\r\nRequirement already satisfied: psutil in /databricks/python3/lib/python3.9/site-packages (from accelerate) (5.8.0)\r\nRequirement already satisfied: pyyaml in /databricks/python3/lib/python3.9/site-packages (from accelerate) (6.0)\r\nCollecting hjson\r\n  Downloading https://artifacts.rbi.tech/artifactory/api/pypi/pypi-group/packages/packages/1f/7f/13cd798d180af4bf4c0ceddeefba2b864a63c71645abc0308b768d67bb81/hjson-3.1.0-py3-none-any.whl (54 kB)\r\n\u001B[?25l\r\u001B[K     |██████                          | 10 kB 41.6 MB/s eta 0:00:01\r\u001B[K     |████████████▏                   | 20 kB 51.7 MB/s eta 0:00:01\r\u001B[K     |██████████████████▏             | 30 kB 65.7 MB/s eta 0:00:01\r\u001B[K     |████████████████████████▎       | 40 kB 76.7 MB/s eta 0:00:01\r\u001B[K     |██████████████████████████████▎ | 51 kB 85.3 MB/s eta 0:00:01\r\u001B[K     |████████████████████████████████| 54 kB 2.3 MB/s \r\n\u001B[?25hCollecting ninja\r\n  Downloading https://artifacts.rbi.tech/artifactory/api/pypi/pypi-group/packages/packages/0f/58/854ce5aab0ff5c33d66e1341b0be42f0330797335011880f7fbd88449996/ninja-1.11.1-py2.py3-none-manylinux_2_12_x86_64.manylinux2010_x86_64.whl (145 kB)\r\n\u001B[?25l\r\u001B[K     |██▎                             | 10 kB 68.2 MB/s eta 0:00:01\r\u001B[K     |████▌                           | 20 kB 75.3 MB/s eta 0:00:01\r\u001B[K     |██████▊                         | 30 kB 85.1 MB/s eta 0:00:01\r\u001B[K     |█████████                       | 40 kB 94.8 MB/s eta 0:00:01\r\u001B[K     |███████████▎                    | 51 kB 102.4 MB/s eta 0:00:01\r\u001B[K     |█████████████▌                  | 61 kB 111.6 MB/s eta 0:00:01\r\u001B[K     |███████████████▊                | 71 kB 117.6 MB/s eta 0:00:01\r\u001B[K     |██████████████████              | 81 kB 122.2 MB/s eta 0:00:01\r\u001B[K     |████████████████████▏           | 92 kB 127.5 MB/s eta 0:00:01\r\u001B[K     |██████████████████████▌         | 102 kB 131.0 MB/s eta 0:00:01\r\u001B[K     |████████████████████████▊       | 112 kB 131.0 MB/s eta 0:00:01\r\u001B[K     |███████████████████████████     | 122 kB 131.0 MB/s eta 0:00:01\r\u001B[K     |█████████████████████████████▏  | 133 kB 131.0 MB/s eta 0:00:01\r\u001B[K     |███████████████████████████████▍| 143 kB 131.0 MB/s eta 0:00:01\r\u001B[K     |████████████████████████████████| 145 kB 131.0 MB/s \r\n\u001B[?25hCollecting py-cpuinfo\r\n  Downloading https://artifacts.rbi.tech/artifactory/api/pypi/pypi-group/packages/packages/e0/a9/023730ba63db1e494a271cb018dcd361bd2c917ba7004c3e49d5daf795a2/py_cpuinfo-9.0.0-py3-none-any.whl (22 kB)\r\nRequirement already satisfied: pydantic in /databricks/python3/lib/python3.9/site-packages (from deepspeed) (1.10.2)\r\nRequirement already satisfied: tqdm in /databricks/python3/lib/python3.9/site-packages (from deepspeed) (4.64.0)\r\nRequirement already satisfied: pyparsing!=3.0.5,>=2.0.2 in /databricks/python3/lib/python3.9/site-packages (from packaging>=20.0->accelerate) (3.0.4)\r\nRequirement already satisfied: typing-extensions in /databricks/python3/lib/python3.9/site-packages (from torch>=1.4.0->accelerate) (4.1.1)\r\nBuilding wheels for collected packages: deepspeed, mpi4py\r\n  Building wheel for deepspeed (setup.py) ... \u001B[?25l-\b \b\\\b \b|\b \b/\b \b-\b \b\\\b \b|\b \b/\b \b-\b \b\\\b \bdone\r\n\u001B[?25h  Created wheel for deepspeed: filename=deepspeed-0.9.0-py3-none-any.whl size=797731 sha256=1ae160e8c33455c06a958e8bc8db92d4dde237a727277fb9e85da74e00f6479a\r\n  Stored in directory: /root/.cache/pip/wheels/e2/e9/bc/8557ddc47735e661d3f343145ce056d0c8a249f1992b2e97a1\r\n  Building wheel for mpi4py (PEP 517) ... \u001B[?25l-\b \b\\\b \b|\b \b/\b \b-\b \b\\\b \b|\b \b/\b \b-\b \b\\\b \b|\b \b/\b \b-\b \b\\\b \bdone\r\n\u001B[?25h  Created wheel for mpi4py: filename=mpi4py-3.1.4-cp39-cp39-linux_x86_64.whl size=3379656 sha256=af8e619f6e4904732085081d6c6ab2f1015dcccab62e777bf4d62a5fde97fc67\r\n  Stored in directory: /root/.cache/pip/wheels/73/c6/01/b41c1b6a6fc1ece47e739ae94c7708e02bd323b6c6ce4be742\r\nSuccessfully built deepspeed mpi4py\r\nInstalling collected packages: py-cpuinfo, ninja, hjson, mpi4py, deepspeed, accelerate\r\nSuccessfully installed accelerate-0.18.0 deepspeed-0.9.0 hjson-3.1.0 mpi4py-3.1.4 ninja-1.11.1 py-cpuinfo-9.0.0\r\n"
     ]
    }
   ],
   "source": [
    "!pip install accelerate deepspeed mpi4py --index-url=https://artifacts.rbi.tech/artifactory/api/pypi/pypi-group/simple"
   ]
  },
  {
   "cell_type": "code",
   "execution_count": 0,
   "metadata": {
    "application/vnd.databricks.v1+cell": {
     "cellMetadata": {
      "byteLimit": 2048000,
      "rowLimit": 10000
     },
     "inputWidgets": {},
     "nuid": "5d0e3952-c83f-453b-951c-83fddb2a49d0",
     "showTitle": false,
     "title": ""
    }
   },
   "outputs": [
    {
     "output_type": "display_data",
     "data": {
      "application/vnd.jupyter.widget-view+json": {
       "model_id": "c7dd7ffa40944bad95b63f6df095fd6a",
       "version_major": 2,
       "version_minor": 0
      },
      "text/plain": [
       "Downloading (…)lve/main/config.json:   0%|          | 0.00/819 [00:00<?, ?B/s]"
      ]
     },
     "metadata": {},
     "output_type": "display_data"
    },
    {
     "output_type": "display_data",
     "data": {
      "application/vnd.jupyter.widget-view+json": {
       "model_id": "1326ecdf54ee4804ada98d483b70d306",
       "version_major": 2,
       "version_minor": 0
      },
      "text/plain": [
       "Downloading (…)instruct_pipeline.py:   0%|          | 0.00/7.16k [00:00<?, ?B/s]"
      ]
     },
     "metadata": {},
     "output_type": "display_data"
    },
    {
     "output_type": "display_data",
     "data": {
      "application/vnd.jupyter.widget-view+json": {
       "model_id": "5b62db4b12cf44f1a12366c5de7b8472",
       "version_major": 2,
       "version_minor": 0
      },
      "text/plain": [
       "Downloading (…)\"pytorch_model.bin\";:   0%|          | 0.00/23.8G [00:00<?, ?B/s]"
      ]
     },
     "metadata": {},
     "output_type": "display_data"
    },
    {
     "output_type": "display_data",
     "data": {
      "application/vnd.jupyter.widget-view+json": {
       "model_id": "0c38126ffee64a388040213db5d9274a",
       "version_major": 2,
       "version_minor": 0
      },
      "text/plain": [
       "Downloading (…)okenizer_config.json:   0%|          | 0.00/449 [00:00<?, ?B/s]"
      ]
     },
     "metadata": {},
     "output_type": "display_data"
    },
    {
     "output_type": "display_data",
     "data": {
      "application/vnd.jupyter.widget-view+json": {
       "model_id": "160b2d420c31480ba5454da78353c99c",
       "version_major": 2,
       "version_minor": 0
      },
      "text/plain": [
       "Downloading (…)/main/tokenizer.json:   0%|          | 0.00/2.11M [00:00<?, ?B/s]"
      ]
     },
     "metadata": {},
     "output_type": "display_data"
    },
    {
     "output_type": "display_data",
     "data": {
      "application/vnd.jupyter.widget-view+json": {
       "model_id": "052feba3052c448db67f48d32dc40752",
       "version_major": 2,
       "version_minor": 0
      },
      "text/plain": [
       "Downloading (…)cial_tokens_map.json:   0%|          | 0.00/228 [00:00<?, ?B/s]"
      ]
     },
     "metadata": {},
     "output_type": "display_data"
    }
   ],
   "source": [
    "import torch\n",
    "from transformers import pipeline\n",
    "\n",
    "instruct = pipeline(model=\"databricks/dolly-v2-12b\", torch_dtype=torch.bfloat16, trust_remote_code=True, device_map=\"auto\")"
   ]
  },
  {
   "cell_type": "code",
   "execution_count": 0,
   "metadata": {
    "application/vnd.databricks.v1+cell": {
     "cellMetadata": {
      "byteLimit": 2048000,
      "rowLimit": 10000
     },
     "inputWidgets": {},
     "nuid": "4e058286-f2ff-420a-b69c-9917e02265c4",
     "showTitle": false,
     "title": ""
    }
   },
   "outputs": [
    {
     "output_type": "stream",
     "name": "stdout",
     "output_type": "stream",
     "text": [
      "Out[3]: 'IMF forecasts that Cameroon, a Central African oil producer, will record 4.3% economic growth this year after it slumped to 0.5% in 2020. The Fund has classified Cameroon as being at high risk of debt distress, though in its most recent review of the country\\'s loan programme it stated that, with active fiscal reforms and management, the debt could be sustainable. \"Our debt service coverage from exports needs to be improved. That\\'s the reason why we are ranked in a high risk debt distress position,\" said Alamine Ousmane Mey, Camero'"
     ]
    }
   ],
   "source": [
    "template = \"\"\"Write a short summary of this article for a business expert:\n",
    "\n",
    "{article}\n",
    "\"\"\"\n",
    "\n",
    "cameroon = \"\"\"The economic fallout from the COVID-19 pandemic and the subsequent global shocks provoked by the war in Ukraine have hit African countries hard, denting economic growth and aggravating their sovereign debt positions. The International Monetary Fund (IMF) forecasts that Cameroon, a Central African oil producer, will record 4.3% economic growth this year after it slumped to 0.5% in 2020. The Fund has classified Cameroon as being at high risk of debt distress, though in its most recent review of the country's loan programme it stated that, with active fiscal reforms and management, the debt could be sustainable. \"Our debt service coverage from exports needs to be improved. That's the reason why we are ranked in a high risk debt distress position,\" said Alamine Ousmane Mey, Cameroon's minister of economy, planning and regional development. He was speaking at an event organised by the Atlantic Council think tank on the sidelines of the IMF and World Bank's Spring Meetings in Washington. \"We're working to be able to improve our exports through import substitution policies to reduce imports, produce more and export more. This will give us better room for debt service coverage,\" he said. Cameroon has also relaunched talks with the U.S. to end its suspension from the Africa Growth and Opportunities Act (AGOA) initiative, which grants qualifying African countries tariff-free access to the U.S. market. Former President Donald Trump suspended Cameroon from the programme in late 2019 over \"persistent gross violations of internationally recognised human rights\" by Cameroonian security forces. Since 2017, factions of secessionist militias have been battling government troops in the majority Francophone country's two English-speaking regions. The conflict has killed thousands and displaced nearly 800,000 people. \"All the issues that have been raised, we're working on in a very transparent open manner to be able to iron them out and solve the problems,\" Mey said, referring to the talks with U.S. officials to rejoin AGOA. Our Standards: The Thomson Reuters Trust Principles.\n",
    "\"\"\"\n",
    "\n",
    "instruct(template.format(article=cameroon), max_new_tokens=120)"
   ]
  },
  {
   "cell_type": "code",
   "execution_count": 0,
   "metadata": {
    "application/vnd.databricks.v1+cell": {
     "cellMetadata": {
      "byteLimit": 2048000,
      "rowLimit": 10000
     },
     "inputWidgets": {},
     "nuid": "8d86641b-208b-493b-8dca-a7ad54748633",
     "showTitle": false,
     "title": ""
    }
   },
   "outputs": [
    {
     "output_type": "stream",
     "name": "stdout",
     "output_type": "stream",
     "text": [
      "Out[48]: \"Higher inflation likely kept Brazil's CPI increased in March, according to a Reuters poll. Higher gasoline prices proved the biggest contributor to the rebound from February's unexpectedly low reading. Inflation likely increased 0.77% in March, according to the median estimate of 13 economists polled March 29-April 3. That would be the quickest pace in 10 months.\\n\\nFood inflation should remain at low levels for this time of the year, however, the partial resumption of federal taxes on gasoline and ethanol on March 1 will take a toll in the March inflation figures. This is because gasoline is a substantial part of the consumed food basket.\\n\\nIn the long run, Brazil's inflation should fall below the target of 4.5% the country's leaders agreed to back in 2016. The current framework, which also includes a upper limit for the general price level, was meant to kick in after 2020. But the return of inflation pressures might force the central bank to reconsider its monetary strategy sooner.\\n\\nThe Banco Central do Brasil is expected to keep the benchmark rate at 13.75% in April, according to a Reuters poll. Many economists think the central bank will begin to ease monetary policy later this year, once the impact of higher fuel taxes is felt\""
     ]
    }
   ],
   "source": [
    "brazil = \"\"\"Brazil's inflation likely stayed high in March on rising gasoline bills, reigniting cost of living problems in the country's stagnant economy and probably stoking more disagreement over policy, a Reuters poll showed. Consumer prices cooled in the second half of 2022 in reaction to an aggressive tightening campaign by the central bank. But inflation pressures reemerged after President Luiz Inacio Lula da Silva took office at the start of this year. The monthly report on consumer prices scheduled for Tuesday could again push back expectations for policy easing towards the end of this year and reinforce Lula's view the Bank's hawkish approach is proving ineffective. The benchmark consumer price index IPCA increased 0.77% in March, according to the median estimate of 13 economists polled March 29-April 3. This would stand very close to the 0.84% rate in February, which had been the quickest in 10 months. \"Food inflation should remain at low levels for this time of the year... (but) the partial resumption of federal taxes on gasoline and ethanol on March 1 will take a toll in the March IPCA,\" Morgan Stanley analysts wrote in a report. The reinstatement of taxes on fuels already tinged March mid-month inflation figures, which came in higher than forecast, dampening any expectations Banco Central do Brasil may begin to cut its benchmark rate, currently at 13.75%, in the short term. The 12-month reading for last month is seen at 4.70%, under 5.60% in February and the lowest in more than two years due to base effects. Brazil's IBGE statistics agency will publish the data on Tuesday at 0900 local time (1200 GMT). A 0.77% inflation rate in March would result in a cumulative 2.2% clip in the first quarter, well on course to surpass this year's goal of 3.25% with a margin of 1.5 percentage points. Last week Lula hinted the government may seek changes in the target to allow for rate cuts sooner, an idea central bank governor Roberto Campos Neto - a member of a committee that sets the goal - has rejected. The panel is comprised by the bank's chief and the ministers of finance and planning, who think the fuel tax and other revenue-boosting planned measures will help lower inflation by eventually closing the primary deficit. Reporting and polling by Gabriel Burin; Editing by Jan Harvey Our Standards: The Thomson Reuters Trust Principles. Read Next United States category Fox News settles with Venezuelan businessman in election defamation lawsuit , article with image 9:19 AM UTC Macro Matters category Bank of Canada seen on hold even as economy accelerates , article with gallery 9:59 AM UTC Markets category Canadian miner Teck Resources pushes for restructuring, says Glencore bid 'flawed' , article with image 11:22 AM UTC Business category Mexico's automotive production and exports rise in March , article with image 12:15 PM UTC\n",
    "\"\"\"\n",
    "\n",
    "instruct(template.format(article=brazil, max_new_tokens=120))"
   ]
  },
  {
   "cell_type": "code",
   "execution_count": 0,
   "metadata": {
    "application/vnd.databricks.v1+cell": {
     "cellMetadata": {
      "byteLimit": 2048000,
      "rowLimit": 10000
     },
     "inputWidgets": {},
     "nuid": "5e25a6b1-84ed-4336-9e2c-378dac0443bc",
     "showTitle": false,
     "title": ""
    }
   },
   "outputs": [
    {
     "output_type": "stream",
     "name": "stdout",
     "output_type": "stream",
     "text": [
      "Out[54]: 'The homelessness situation in Argentina has become critical in recent years with rising inflation and poverty. While there are some homeless shelters, the homeless often look for informal shelter at the Jorge Berry domestic airport in Buenos Aires. Argentines are struggling to afford food and basic necessities as the inflation rate has risen to over 102% this year.'"
     ]
    }
   ],
   "source": [
    "argentina = \"\"\"Homeless in Argentina seek refuge in unofficial shelter in Buenos Aires airport At the start of the long Easter weekend, the airport in the Argentine capital is filled with homeless people sleeping. The Jorge Berry domestic airport has become an unofficial homeless shelter in a reflection of the rising poverty in Argentina, which also has one of the world’s highest inflation rates. More and more Argentines are finding themselves in a difficult financial situation as the country’s inflation clocked in at an annual rate of 102.5% in February. Although the country has been used to double-digit inflation for years, this marked the first time the annual rise in consumer prices reached triple digits since 1991. The high inflation, which has been particularly pronounced in basic food items, has hit the poor the hardest and pushed the poverty rate to almost 40 percent. Nearly 18.6 million people are unable to cover their basic food needs, according to official figures.\n",
    "\"\"\"\n",
    "\n",
    "instruct(template.format(article=argentina, max_new_tokens=120))"
   ]
  },
  {
   "cell_type": "code",
   "execution_count": 0,
   "metadata": {
    "application/vnd.databricks.v1+cell": {
     "cellMetadata": {
      "byteLimit": 2048000,
      "rowLimit": 10000
     },
     "inputWidgets": {},
     "nuid": "79068da5-9902-4dbe-8e62-5d31894ae1f5",
     "showTitle": false,
     "title": ""
    }
   },
   "outputs": [
    {
     "output_type": "stream",
     "name": "stdout",
     "output_type": "stream",
     "text": [
      "Out[56]: 'Overall, FACC reported financial results for the fourth quarter and fiscal year ended February 28, 2022. Net sales reached 607.0 billion euros, 7.0 billion euros higher than the forecast presented at the beginning of February. This performance was driven by growth across all business segments. The aerostructures segment reported sales of 97.3 billion euros, 7.0 billion euros higher than the previous year. The profitability of this business remained strong with an EBIT of 5.5 billion euros, 1.0 billion euros higher than the previous year. The Cabin Interiors segment had sales'"
     ]
    }
   ],
   "source": [
    "facc = \"\"\"Nach geprüften Zahlen erzielte FACC einen Umsatz von 607,0 Mio. Euro und damit rund 7 Mio. Euro mehr als Ende Februar avisiert (+22,0% yoy). Damit erreicht das Unternehmen die Guidance und kann von den steigenden Produktionsraten aller Flugzeug-OEMs profitieren. In Q4 verzeichnete das Unternehmen demnach einen deutlichen Erlösanstieg von 34,5% yoy, der auch auf hohe Kundenzahl-ungen im Zusammenhang mit Entwicklungsdienstleistungen im Schlussquartal zurückzu-führen ist. Mit einem Top Line Wachstum von 40,3% yoy auf Ganzjahressicht trug das Segment Aerostructures den Löwenteil zum Wachstum bei (235,1 Mio. Euro). Auch das im Umbau befindliche Segment mit Innenausstattungen konnte um 21,3% yoy zulegen (274,6 Mio. Euro). Das Geschäft mit Triebwerksbauteilen („Engines & Nacelles“) wies mit 6,1% yoy eine rückläufige Top-Line auf (97,3 Mio. Euro). Ursächlich hierfür war der auf Sicherheits-mängel zurückzuführende temporäre Auslieferungsstopp von Boeing 787-Maschinen. Alle Segmente mit positivem EBIT-Beitrag: Das EBIT von 5,5 Mio. Euro liegt ebenfalls etwas oberhalb des vorab kommunizierten Wertes von 5,0 Mio. Euro. Damit kehrt FACC nach den starken Beeinträchtigungen der Corona-Pandemie auf operativer Ebene auf den Profitabilitätspfad zurück, wenngleich dies eine Verfehlung des avisierten zweistelligen EBITs darstellt. Erfreulich ist die Rückkehr des Segmentes Cabin Interiors zu einem positiven EBIT-Beitrag von 1,0 Mio. Euro (Marge: 0,4%; Vj.: -2,3%). Mit einer Marge von 1,7% (Vj.: -17,0%) war das Segment Aerostructures das profitabelste Geschäftsfeld. Die Profitabilität bei Engines & Nacelles war durch den Sondereffekt im Zusammenhang mit dem 787-Lieferstopp beeinträchtigt (0,5%; Vj.: 8,4%). Durch die hohen Meilensteinzahlungen für Entwicklungstätigkeiten in Q4 fiel der Free Cashflow auf Konzernebene mit -0,07 Euro je Aktie deutlich besser aus als von uns erwartet (-0,74 Euro). Fortsetzung des Erholungskurses in 2023 erwartet: Für 2023 avisiert FACC weiterhin von den steigenden Produktionsraten der OEMs profitieren zu können und Umsatz und EBIT zu steigern. Diese bewusst allgemein formulierte Guidance ist u.E. auf die hohe Unsicherheit in der Lieferkette zurückzuführen, die sich u.a. in der bisher geringen Lieferrate von Airbus manifestiert. Mit 66 Auslieferungen (Stand: Februar) liegt Airbus deutlich hinter dem Vorjahreswert von 79 (-16,5%). Ergebnisseitig hat FACC Maßnahmen ergriffen, um die signifikant gestiegenen Bezugspreise zu kompensieren. So dürften diese durch Preiserhöhungen im Jahresverlauf an Kunden teilweise weitergereicht werden. Außerdem erwarten wir in 2023 weitere Kosteneinsparungen i.H.v. ca. 4,0 Mio. Euro durch die nach Kroatien verlagerte Produktion des Segmentes Cabin Interiors (2022: ca. 1,5 Mio. Euro).\"\"\"\n",
    "\n",
    "instruct(template.format(article=facc), max_new_tokens=120)"
   ]
  },
  {
   "cell_type": "code",
   "execution_count": 0,
   "metadata": {
    "application/vnd.databricks.v1+cell": {
     "cellMetadata": {
      "byteLimit": 2048000,
      "rowLimit": 10000
     },
     "inputWidgets": {},
     "nuid": "3e059ab3-5d86-423b-8e28-cb3f430ff285",
     "showTitle": false,
     "title": ""
    }
   },
   "outputs": [
    {
     "output_type": "stream",
     "name": "stdout",
     "output_type": "stream",
     "text": [
      "This article provides an overview of how to ship with freight forwarders or shipping carriers in the freight business. \n\nThe first step is to get quotes from freight forwarders. Each forwarder has different terms and conditions. The second step is to decide which route you want to ship with freight. The third step is to fill out the freight acceptance form and submit it to the freight forwarder of your choice. The fourth step is track the package with the freight carrier through the shipping company. The fifth step is make sure the tracking number is available online or by phone to track the shipping. The last\n"
     ]
    }
   ],
   "source": [
    "ups = \"\"\"Any time you open up a mailbox on the UPS Retailer, you can get lots more than simply a box having a key. You'll get bundle acceptance from all shipping carriers, mail receipt notifications, and an actual street deal with in 32904, not just a PO Box #. Implement these days. Specialising in both standard and express freight supply, we're dedicated to making certain that the standard of Just about every delivery is rarely compromised. They're able to function an agent on behalf of your shipper by negotiating the pricing and the contract’s conditions and terms with freight carriers. FreightPros has negotiated low-cost freight quotations Using these and a number of other carriers across the country. Our truckload group has secured associations with a lot of of those freight services organizations also to help you our prospects ship their freight in both the LTL and truckload shipping and delivery zones. Etihad Rail has announced the commencement of its commercial freight services, which might be now entirely operational and obtainable for transportation of all types of cargo across the UAE. You’ll need to have to learn if you might want to request a elevate gate (the system on the truck that raises and lowers freight to and from the ground towards the trailer) for pickup and shipping. For those who or your location doesn’t Have a very delivery dock, be sure you ask for a elevate gate to stay away from delays and additional charges. But you don’t should go it by yourself. “It’s a misconception that ecommerce providers require to obtain relatively deep expertise in international laws and the whole process of transport internationally to achieve success with Global sourcing,” states Cory Sanderson, Director of Consumer Solutions at Flexport, an entire-provider freight forwarding and customs brokerage corporation. We heard you, and we have improved our quoting working experience with a guided perspective that will help you ship far more confidently, despite your standard of shipping and delivery information. شكراً لاشتراكك، ستصل آخر المقالات قريباً إلى بريدك الإلكتروني\\nIf your shipment requires a paper Bill of Lading, or if you prefer to implement a Invoice of Lading rather of making a label on the net, you'll be able to download a type. By publishing this form, you comply with receive marketing messages from Shopify about its items and services. You can unsubscribe at any time by clicking over the link at the bottom of our e-mails. Considered one of CargoMasters hottest services is Shifting Abroad Delivery Containers for anyone relocating overseas. Self Pack Worldwide transferring containers are a low cost alternate to high priced Global removalists. Other works by using for shipping containers incorporate business enterprise investing internationally seeking to transport bigger type shipments cost efficiently from or to Melbourne. CargoMaster moves all sorts of Intercontinental freight forwarders Melbourne by air freight and sea freight. Freight businesses or freight carriers are the guys in control of the drivers and vehicles that move freight all across the nation. There's a lots of variance in the businesses. Some are significant national chains, such as R&L delivery costs, that provider most areas of\\nher explanationthe continental United states of america, let alone Canada, Mexico, Puerto Rico, Hawaii, and in some cases Alaska.\n",
    "\"\"\"\n",
    "\n",
    "print(instruct(template.format(article=ups), max_new_tokens=120))"
   ]
  },
  {
   "cell_type": "code",
   "execution_count": 0,
   "metadata": {
    "application/vnd.databricks.v1+cell": {
     "cellMetadata": {},
     "inputWidgets": {},
     "nuid": "12e94058-2145-45e0-89e5-1abf28b73824",
     "showTitle": false,
     "title": ""
    }
   },
   "outputs": [],
   "source": []
  },
  {
   "cell_type": "code",
   "execution_count": 0,
   "metadata": {
    "application/vnd.databricks.v1+cell": {
     "cellMetadata": {
      "byteLimit": 2048000,
      "rowLimit": 10000
     },
     "inputWidgets": {},
     "nuid": "2be0edbb-e464-4e25-8958-bc0178333874",
     "showTitle": false,
     "title": ""
    }
   },
   "outputs": [
    {
     "output_type": "stream",
     "name": "stdout",
     "output_type": "stream",
     "text": [
      "Databricks is great because it provides an incredibly fast and easy to use Workload Management Platform. It provides seamless and continuous integration and data preparation to accelerate analytics and business outcomes. Databricks is very scalable and flexible and lets users execute a wide range of analytics directly from their Databricks workspace. This helps to reduce the time-to-insights and provides business users the ability to execute professional level analytics on large and complex data sets.\n"
     ]
    }
   ],
   "source": [
    "print(instruct(\"write me arguments why databricks is great\", max_new_tokens=240))"
   ]
  }
 ],
 "metadata": {
  "application/vnd.databricks.v1+notebook": {
   "dashboards": [],
   "language": "python",
   "notebookMetadata": {
    "pythonIndentUnit": 4
   },
   "notebookName": "Dolly Summarization (1)",
   "widgets": {}
  }
 },
 "nbformat": 4,
 "nbformat_minor": 0
}
